{
 "cells": [
  {
   "cell_type": "code",
   "execution_count": 2,
   "id": "a17a3cff-40cc-486f-9a05-0e69d047d12e",
   "metadata": {},
   "outputs": [
    {
     "name": "stdout",
     "output_type": "stream",
     "text": [
      "2.2.3\n"
     ]
    }
   ],
   "source": [
    "import pandas as pd\n",
    "print(pd.__version__)"
   ]
  },
  {
   "cell_type": "code",
   "execution_count": 8,
   "id": "361984c0-b869-4648-bac1-7e8fc654f931",
   "metadata": {
    "scrolled": true
   },
   "outputs": [
    {
     "name": "stdout",
     "output_type": "stream",
     "text": [
      "当前工作目录：/home/jovyan/10\n"
     ]
    }
   ],
   "source": [
    "import os\n",
    "print(f\"当前工作目录：{os.getcwd()}\")"
   ]
  },
  {
   "cell_type": "code",
   "execution_count": 12,
   "id": "f9b69d12-ec63-4e7b-858b-7f453618a368",
   "metadata": {
    "scrolled": true
   },
   "outputs": [
    {
     "name": "stdout",
     "output_type": "stream",
     "text": [
      "Collecting openpyxl\n",
      "  Downloading openpyxl-3.1.5-py2.py3-none-any.whl.metadata (2.5 kB)\n",
      "Collecting et-xmlfile (from openpyxl)\n",
      "  Downloading et_xmlfile-1.1.0-py3-none-any.whl.metadata (1.8 kB)\n",
      "Downloading openpyxl-3.1.5-py2.py3-none-any.whl (250 kB)\n",
      "\u001b[2K   \u001b[90m━━━━━━━━━━━━━━━━━━━━━━━━━━━━━━━━━━━━━━━\u001b[0m \u001b[32m250.9/250.9 kB\u001b[0m \u001b[31m196.1 kB/s\u001b[0m eta \u001b[36m0:00:00\u001b[0m00:01\u001b[0m00:01\u001b[0m\n",
      "\u001b[?25hDownloading et_xmlfile-1.1.0-py3-none-any.whl (4.7 kB)\n",
      "Installing collected packages: et-xmlfile, openpyxl\n",
      "Successfully installed et-xmlfile-1.1.0 openpyxl-3.1.5\n",
      "Note: you may need to restart the kernel to use updated packages.\n"
     ]
    }
   ],
   "source": [
    "pip install openpyxl"
   ]
  },
  {
   "cell_type": "markdown",
   "id": "81053c5b-55ec-46fe-a75c-1981cc1b3cee",
   "metadata": {},
   "source": [
    "### 1.Pandas数据读取常用的方法\n",
    "1. read_csv( ):txt、csv文件（一般是以英文符号逗号\"，\"为数据分隔符）\n",
    "2. read_excel( ) 有一定的数据量限制"
   ]
  },
  {
   "cell_type": "code",
   "execution_count": 16,
   "id": "cff18fa6-7937-4280-bb51-641fbabfebae",
   "metadata": {},
   "outputs": [
    {
     "data": {
      "text/html": [
       "<div>\n",
       "<style scoped>\n",
       "    .dataframe tbody tr th:only-of-type {\n",
       "        vertical-align: middle;\n",
       "    }\n",
       "\n",
       "    .dataframe tbody tr th {\n",
       "        vertical-align: top;\n",
       "    }\n",
       "\n",
       "    .dataframe thead th {\n",
       "        text-align: right;\n",
       "    }\n",
       "</style>\n",
       "<table border=\"1\" class=\"dataframe\">\n",
       "  <thead>\n",
       "    <tr style=\"text-align: right;\">\n",
       "      <th></th>\n",
       "      <th>报名名称</th>\n",
       "      <th>用途</th>\n",
       "      <th>测试区路径</th>\n",
       "      <th>正式区路径</th>\n",
       "      <th>清洗工作流</th>\n",
       "      <th>范围</th>\n",
       "      <th>MES</th>\n",
       "    </tr>\n",
       "  </thead>\n",
       "  <tbody>\n",
       "    <tr>\n",
       "      <th>0</th>\n",
       "      <td>SAP_Dailyreport.cpt</td>\n",
       "      <td>SAP类生产日报简洁</td>\n",
       "      <td>Copy_test/Manufacturing/SAP_Officia</td>\n",
       "      <td>SAP_Official</td>\n",
       "      <td>NaN</td>\n",
       "      <td>各园区</td>\n",
       "      <td>3.0</td>\n",
       "    </tr>\n",
       "    <tr>\n",
       "      <th>1</th>\n",
       "      <td>SAP_Dailyreport_Detail.cpt</td>\n",
       "      <td>SAP类生产日报详细</td>\n",
       "      <td>Copy_test/Manufacturing/SAP_Officia</td>\n",
       "      <td>SAP_Official</td>\n",
       "      <td>NaN</td>\n",
       "      <td>各园区</td>\n",
       "      <td>3.0</td>\n",
       "    </tr>\n",
       "    <tr>\n",
       "      <th>2</th>\n",
       "      <td>BA_SAP.cpt</td>\n",
       "      <td>SAP类BA结存报表</td>\n",
       "      <td>Copy_test/Manufacturing</td>\n",
       "      <td>/</td>\n",
       "      <td>NaN</td>\n",
       "      <td>各园区</td>\n",
       "      <td>3.0</td>\n",
       "    </tr>\n",
       "    <tr>\n",
       "      <th>3</th>\n",
       "      <td>dailyreport_detail.cpt</td>\n",
       "      <td>DM生产日报详细</td>\n",
       "      <td>Copy_test/Manufacturing/MES_ODS</td>\n",
       "      <td>MES_ODS</td>\n",
       "      <td>NaN</td>\n",
       "      <td>各园区</td>\n",
       "      <td>NaN</td>\n",
       "    </tr>\n",
       "    <tr>\n",
       "      <th>4</th>\n",
       "      <td>dailyreport.cpt</td>\n",
       "      <td>DM生产日报简洁</td>\n",
       "      <td>Copy_test/Manufacturing/MES_ODS</td>\n",
       "      <td>MES_ODS</td>\n",
       "      <td>NaN</td>\n",
       "      <td>各园区</td>\n",
       "      <td>NaN</td>\n",
       "    </tr>\n",
       "  </tbody>\n",
       "</table>\n",
       "</div>"
      ],
      "text/plain": [
       "                         报名名称          用途  \\\n",
       "0         SAP_Dailyreport.cpt  SAP类生产日报简洁   \n",
       "1  SAP_Dailyreport_Detail.cpt  SAP类生产日报详细   \n",
       "2                  BA_SAP.cpt  SAP类BA结存报表   \n",
       "3      dailyreport_detail.cpt    DM生产日报详细   \n",
       "4             dailyreport.cpt    DM生产日报简洁   \n",
       "\n",
       "                                 测试区路径         正式区路径  清洗工作流   范围  MES  \n",
       "0  Copy_test/Manufacturing/SAP_Officia  SAP_Official    NaN  各园区  3.0  \n",
       "1  Copy_test/Manufacturing/SAP_Officia  SAP_Official    NaN  各园区  3.0  \n",
       "2              Copy_test/Manufacturing             /    NaN  各园区  3.0  \n",
       "3      Copy_test/Manufacturing/MES_ODS       MES_ODS    NaN  各园区  NaN  \n",
       "4      Copy_test/Manufacturing/MES_ODS       MES_ODS    NaN  各园区  NaN  "
      ]
     },
     "execution_count": 16,
     "metadata": {},
     "output_type": "execute_result"
    }
   ],
   "source": [
    "#读取Excel()文件数据\n",
    "df_excel = pd.read_excel('报表清单.xlsx')\n",
    "df_excel.head(5)"
   ]
  },
  {
   "cell_type": "code",
   "execution_count": 17,
   "id": "1f488fe5-ca8e-4b36-8bc8-92f6d68f47c3",
   "metadata": {},
   "outputs": [],
   "source": [
    "#保存Excel文件数据\n",
    "df_excel.to_excel('保存清单.xlsx' ,sheet_name='Sheet1')\n",
    "#直接调用，如果文件已存在，则会覆盖原来的数据，重新写入数据\n",
    "df_excel.to_excel('保存清单.xlsx' ,sheet_name='Sheet1')"
   ]
  },
  {
   "cell_type": "code",
   "execution_count": 18,
   "id": "3ba51e4b-6e96-4fec-95d3-b7cd88232957",
   "metadata": {},
   "outputs": [],
   "source": [
    "#会话式保存多个sheet数据到同一个Excel文件里\n",
    "with pd.ExcelWriter('多个sheet保存清单.xlsx') as writer:\n",
    "    df_excel.to_excel(writer,sheet_name='sheet1')\n",
    "    df_excel.to_excel(writer,sheet_name='sheet2')\n",
    "    df_excel.to_excel(writer,sheet_name='sheet3')\n"
   ]
  },
  {
   "cell_type": "code",
   "execution_count": 45,
   "id": "77332aba-7012-488f-bd2e-f5abaceac1ed",
   "metadata": {},
   "outputs": [],
   "source": [
    "#pd.ExcelFile方法，循坏读取Excel文件的多个sheet数据合并后保存到新的Excel中\n",
    "df_excel = pd.ExcelFile(r'多个sheet保存清单.xlsx')\n",
    "df = pd.DataFrame()\n",
    "for name in df_excel.sheet_names:\n",
    "    data = pd.ExcelFile.parse(df_excel,sheet_name=name)\n",
    "    df = pd.concat([df,data])\n",
    "df.to_excel('合并保存清单.xlsx')"
   ]
  },
  {
   "cell_type": "code",
   "execution_count": 52,
   "id": "8b354696-cc78-41f4-9b01-7b5343c9e59d",
   "metadata": {},
   "outputs": [
    {
     "name": "stdout",
     "output_type": "stream",
     "text": [
      "            111               精磨\n",
      "0          1112             1112\n",
      "1       111TEST          111TEST\n",
      "2             2                3\n",
      "3          2222            11111\n",
      "4           333              333\n",
      "..          ...              ...\n",
      "994  BA3AQC3.01  A3厂10号线FQC3非整理仓\n",
      "995   BA3AR0.01         电膜AR非整理仓\n",
      "996   BA3AR0.02          电膜AR整理仓\n",
      "997   BA3AR0.03        AR整理仓（不良）\n",
      "998   BA3AS0.01         电膜AS非整理仓\n",
      "\n",
      "[999 rows x 2 columns]\n"
     ]
    }
   ],
   "source": [
    "#读取CSV文件\n",
    "df_csv = pd.read_csv('工序1.csv')\n",
    "print(df_csv)"
   ]
  },
  {
   "cell_type": "code",
   "execution_count": 55,
   "id": "596c44a1-159b-41cd-a6b4-85f68226b12a",
   "metadata": {},
   "outputs": [],
   "source": [
    "#保存csv文件\n",
    "df_csv.to_csv('工序2.csv')\n",
    "#在同一个csv文件中追加保存数据\n",
    "df_csv.to_csv('工序2.csv' , mode='a' , header=None) #mode='a'--追加  header=None--去除追加部分数据的表头"
   ]
  },
  {
   "cell_type": "markdown",
   "id": "7436f5c0-8a83-44a8-a832-7d6a60b15662",
   "metadata": {},
   "source": [
    "### read_csv()方法中常用的参数的使用方法"
   ]
  },
  {
   "cell_type": "code",
   "execution_count": 61,
   "id": "b9606e40-461b-4ba9-8f8f-c903870c72c3",
   "metadata": {},
   "outputs": [
    {
     "name": "stdout",
     "output_type": "stream",
     "text": [
      "            111               精磨\n",
      "0          1112             1112\n",
      "1       111TEST          111TEST\n",
      "2             2                3\n",
      "3          2222            11111\n",
      "4           333              333\n",
      "..          ...              ...\n",
      "994  BA3AQC3.01  A3厂10号线FQC3非整理仓\n",
      "995   BA3AR0.01         电膜AR非整理仓\n",
      "996   BA3AR0.02          电膜AR整理仓\n",
      "997   BA3AR0.03        AR整理仓（不良）\n",
      "998   BA3AS0.01         电膜AS非整理仓\n",
      "\n",
      "[999 rows x 2 columns]\n"
     ]
    }
   ],
   "source": [
    "#header设置表头 ，\n",
    "#name=[]重新设置表头，\n",
    "#index_col设置索引，\n",
    "#usecols 设置需要的字段 ，\n",
    "#chunksize 设置按数量批次依次（next（reader））读取数据\n",
    "#pd.concat() 合并数据\n",
    "df_csv = pd.read_csv('工序1.csv' , header=0)\n",
    "print(df_csv)"
   ]
  },
  {
   "cell_type": "markdown",
   "id": "976a518d-1a8b-4571-8344-c4c1cb159c35",
   "metadata": {},
   "source": [
    "### pandas 查看和预览数据的方法"
   ]
  },
  {
   "cell_type": "code",
   "execution_count": 79,
   "id": "3b9313bf-4cee-44c6-87ae-7f94647809b1",
   "metadata": {},
   "outputs": [
    {
     "name": "stdout",
     "output_type": "stream",
     "text": [
      "(999, 2)\n",
      "1998\n",
      "       111       精磨\n",
      "0     1112     1112\n",
      "1  111TEST  111TEST\n",
      "2        2        3\n",
      "3     2222    11111\n",
      "4      333      333\n",
      "            111               精磨\n",
      "994  BA3AQC3.01  A3厂10号线FQC3非整理仓\n",
      "995   BA3AR0.01         电膜AR非整理仓\n",
      "996   BA3AR0.02          电膜AR整理仓\n",
      "997   BA3AR0.03        AR整理仓（不良）\n",
      "998   BA3AS0.01         电膜AS非整理仓\n"
     ]
    },
    {
     "data": {
      "text/plain": [
       "'A1二次精雕'"
      ]
     },
     "execution_count": 79,
     "metadata": {},
     "output_type": "execute_result"
    }
   ],
   "source": [
    "#设置界面显示的最大行列数据量\n",
    "pd.options.display.max_columns = None\n",
    "pd.options.display.max_rows= None\n",
    "#读取数据\n",
    "df = pd.read_csv('工序1.csv' )\n",
    "#查看数据量、数据指标和数据维度\n",
    "print(df.shape) #(999, 2) 999行，2列\n",
    "#查看数据的尺寸大小\n",
    "print(df.size) #1998 999*2\n",
    "#查看前N条数据\n",
    "print(df.head())#默认N是5\n",
    "#查看后N条数据\n",
    "print(df.tail())\n",
    "#查看指定条件的数据\n",
    "df[df['精磨']=='电膜AS非整理仓']\n",
    "#查看指定列\n",
    "df['精磨'].head() #或者df[['col1','col2']]查看多列\n",
    "#查看指定行\n",
    "df[20:31] #查看索引为20-30的行\n",
    "#查看指定的行和列\n",
    "df.loc[20:31, '精磨']\n",
    "#按切片指定行和列\n",
    "df.iloc[20:31 ,:5]\n",
    "#查看指定行和列\n",
    "df.iat[20,1]"
   ]
  },
  {
   "cell_type": "code",
   "execution_count": 74,
   "id": "14655a85-944e-4903-af2b-33754cca38c0",
   "metadata": {},
   "outputs": [
    {
     "data": {
      "text/html": [
       "<div>\n",
       "<style scoped>\n",
       "    .dataframe tbody tr th:only-of-type {\n",
       "        vertical-align: middle;\n",
       "    }\n",
       "\n",
       "    .dataframe tbody tr th {\n",
       "        vertical-align: top;\n",
       "    }\n",
       "\n",
       "    .dataframe thead th {\n",
       "        text-align: right;\n",
       "    }\n",
       "</style>\n",
       "<table border=\"1\" class=\"dataframe\">\n",
       "  <thead>\n",
       "    <tr style=\"text-align: right;\">\n",
       "      <th></th>\n",
       "      <th>111</th>\n",
       "      <th>精磨</th>\n",
       "    </tr>\n",
       "  </thead>\n",
       "  <tbody>\n",
       "    <tr>\n",
       "      <th>20</th>\n",
       "      <td>A1.2JD.01</td>\n",
       "      <td>A1二次精雕</td>\n",
       "    </tr>\n",
       "    <tr>\n",
       "      <th>21</th>\n",
       "      <td>A1.2JD.02</td>\n",
       "      <td>A1二次精雕</td>\n",
       "    </tr>\n",
       "    <tr>\n",
       "      <th>22</th>\n",
       "      <td>A1.2JM.01</td>\n",
       "      <td>A1二次精磨</td>\n",
       "    </tr>\n",
       "    <tr>\n",
       "      <th>23</th>\n",
       "      <td>A1.2JM.02</td>\n",
       "      <td>A1二次精磨</td>\n",
       "    </tr>\n",
       "    <tr>\n",
       "      <th>24</th>\n",
       "      <td>A1.2JM2.01</td>\n",
       "      <td>A1二次精磨(二部)</td>\n",
       "    </tr>\n",
       "    <tr>\n",
       "      <th>25</th>\n",
       "      <td>A1.2JM2.02</td>\n",
       "      <td>A1二次精磨(二部)</td>\n",
       "    </tr>\n",
       "    <tr>\n",
       "      <th>26</th>\n",
       "      <td>A1.2SY.01</td>\n",
       "      <td>A1二次丝印</td>\n",
       "    </tr>\n",
       "    <tr>\n",
       "      <th>27</th>\n",
       "      <td>A1.2SY.02</td>\n",
       "      <td>A1二次丝印</td>\n",
       "    </tr>\n",
       "    <tr>\n",
       "      <th>28</th>\n",
       "      <td>A1.2SYB.01</td>\n",
       "      <td>二次丝印B</td>\n",
       "    </tr>\n",
       "    <tr>\n",
       "      <th>29</th>\n",
       "      <td>A1.2SYB.02</td>\n",
       "      <td>二次丝印B</td>\n",
       "    </tr>\n",
       "    <tr>\n",
       "      <th>30</th>\n",
       "      <td>A1.333</td>\n",
       "      <td>A1一次电膜</td>\n",
       "    </tr>\n",
       "  </tbody>\n",
       "</table>\n",
       "</div>"
      ],
      "text/plain": [
       "           111          精磨\n",
       "20   A1.2JD.01      A1二次精雕\n",
       "21   A1.2JD.02      A1二次精雕\n",
       "22   A1.2JM.01      A1二次精磨\n",
       "23   A1.2JM.02      A1二次精磨\n",
       "24  A1.2JM2.01  A1二次精磨(二部)\n",
       "25  A1.2JM2.02  A1二次精磨(二部)\n",
       "26   A1.2SY.01      A1二次丝印\n",
       "27   A1.2SY.02      A1二次丝印\n",
       "28  A1.2SYB.01       二次丝印B\n",
       "29  A1.2SYB.02       二次丝印B\n",
       "30      A1.333      A1一次电膜"
      ]
     },
     "execution_count": 74,
     "metadata": {},
     "output_type": "execute_result"
    }
   ],
   "source": []
  },
  {
   "cell_type": "code",
   "execution_count": 83,
   "id": "c19da516-59be-4910-98a4-da6aadc0cea3",
   "metadata": {},
   "outputs": [
    {
     "name": "stdout",
     "output_type": "stream",
     "text": [
      "111    object\n",
      "精磨     object\n",
      "dtype: object\n",
      "<class 'pandas.core.frame.DataFrame'>\n",
      "RangeIndex: 999 entries, 0 to 998\n",
      "Data columns (total 2 columns):\n",
      " #   Column  Non-Null Count  Dtype \n",
      "---  ------  --------------  ----- \n",
      " 0   111     999 non-null    object\n",
      " 1   精磨      999 non-null    object\n",
      "dtypes: object(2)\n",
      "memory usage: 15.7+ KB\n"
     ]
    },
    {
     "data": {
      "text/html": [
       "<div>\n",
       "<style scoped>\n",
       "    .dataframe tbody tr th:only-of-type {\n",
       "        vertical-align: middle;\n",
       "    }\n",
       "\n",
       "    .dataframe tbody tr th {\n",
       "        vertical-align: top;\n",
       "    }\n",
       "\n",
       "    .dataframe thead th {\n",
       "        text-align: right;\n",
       "    }\n",
       "</style>\n",
       "<table border=\"1\" class=\"dataframe\">\n",
       "  <thead>\n",
       "    <tr style=\"text-align: right;\">\n",
       "      <th></th>\n",
       "      <th>111</th>\n",
       "      <th>精磨</th>\n",
       "    </tr>\n",
       "  </thead>\n",
       "  <tbody>\n",
       "    <tr>\n",
       "      <th>count</th>\n",
       "      <td>999</td>\n",
       "      <td>999</td>\n",
       "    </tr>\n",
       "    <tr>\n",
       "      <th>unique</th>\n",
       "      <td>999</td>\n",
       "      <td>931</td>\n",
       "    </tr>\n",
       "    <tr>\n",
       "      <th>top</th>\n",
       "      <td>BA3AS0.01</td>\n",
       "      <td>A1加硬</td>\n",
       "    </tr>\n",
       "    <tr>\n",
       "      <th>freq</th>\n",
       "      <td>1</td>\n",
       "      <td>6</td>\n",
       "    </tr>\n",
       "  </tbody>\n",
       "</table>\n",
       "</div>"
      ],
      "text/plain": [
       "              111    精磨\n",
       "count         999   999\n",
       "unique        999   931\n",
       "top     BA3AS0.01  A1加硬\n",
       "freq            1     6"
      ]
     },
     "execution_count": 83,
     "metadata": {},
     "output_type": "execute_result"
    }
   ],
   "source": [
    "#查看数据详细嘻嘻和数据指标类型\n",
    "print(df.dtypes)\n",
    "#统计不同类型数据指标的数量\n",
    "from collections import Counter\n",
    "Counter(df.dtypes.values)\n",
    "#查看数据详细信息、指标类型统计、数据大小、内存占用信息\n",
    "df.info()\n"
   ]
  },
  {
   "cell_type": "markdown",
   "id": "b6a0b572-08e7-4ddc-aedb-9315a16fc3ff",
   "metadata": {},
   "source": [
    "### 数据统计分析一般方法"
   ]
  },
  {
   "cell_type": "code",
   "execution_count": 6,
   "id": "ed675504-5485-42a6-aa46-f62a5fd47625",
   "metadata": {},
   "outputs": [
    {
     "name": "stdout",
     "output_type": "stream",
     "text": [
      "<class 'pandas.core.frame.DataFrame'>\n",
      "RangeIndex: 100 entries, 0 to 99\n",
      "Data columns (total 6 columns):\n",
      " #   Column  Non-Null Count  Dtype  \n",
      "---  ------  --------------  -----  \n",
      " 0   学号      100 non-null    int64  \n",
      " 1   性别      100 non-null    object \n",
      " 2   班级      99 non-null     float64\n",
      " 3   语文      100 non-null    int64  \n",
      " 4   数学      100 non-null    int64  \n",
      " 5   英语      100 non-null    int64  \n",
      "dtypes: float64(1), int64(4), object(1)\n",
      "memory usage: 4.8+ KB\n"
     ]
    },
    {
     "data": {
      "text/html": [
       "<div>\n",
       "<style scoped>\n",
       "    .dataframe tbody tr th:only-of-type {\n",
       "        vertical-align: middle;\n",
       "    }\n",
       "\n",
       "    .dataframe tbody tr th {\n",
       "        vertical-align: top;\n",
       "    }\n",
       "\n",
       "    .dataframe thead th {\n",
       "        text-align: right;\n",
       "    }\n",
       "</style>\n",
       "<table border=\"1\" class=\"dataframe\">\n",
       "  <thead>\n",
       "    <tr style=\"text-align: right;\">\n",
       "      <th></th>\n",
       "      <th>学号</th>\n",
       "      <th>班级</th>\n",
       "      <th>语文</th>\n",
       "      <th>数学</th>\n",
       "      <th>英语</th>\n",
       "    </tr>\n",
       "  </thead>\n",
       "  <tbody>\n",
       "    <tr>\n",
       "      <th>count</th>\n",
       "      <td>100.000000</td>\n",
       "      <td>99.000000</td>\n",
       "      <td>100.000000</td>\n",
       "      <td>100.000000</td>\n",
       "      <td>100.000000</td>\n",
       "    </tr>\n",
       "    <tr>\n",
       "      <th>mean</th>\n",
       "      <td>10050.500000</td>\n",
       "      <td>2.535354</td>\n",
       "      <td>68.760000</td>\n",
       "      <td>70.400000</td>\n",
       "      <td>68.240000</td>\n",
       "    </tr>\n",
       "    <tr>\n",
       "      <th>std</th>\n",
       "      <td>29.011492</td>\n",
       "      <td>1.033255</td>\n",
       "      <td>17.580476</td>\n",
       "      <td>17.627458</td>\n",
       "      <td>17.189449</td>\n",
       "    </tr>\n",
       "    <tr>\n",
       "      <th>min</th>\n",
       "      <td>10001.000000</td>\n",
       "      <td>1.000000</td>\n",
       "      <td>40.000000</td>\n",
       "      <td>40.000000</td>\n",
       "      <td>40.000000</td>\n",
       "    </tr>\n",
       "    <tr>\n",
       "      <th>25%</th>\n",
       "      <td>10025.750000</td>\n",
       "      <td>2.000000</td>\n",
       "      <td>50.750000</td>\n",
       "      <td>56.000000</td>\n",
       "      <td>54.750000</td>\n",
       "    </tr>\n",
       "    <tr>\n",
       "      <th>50%</th>\n",
       "      <td>10050.500000</td>\n",
       "      <td>3.000000</td>\n",
       "      <td>70.500000</td>\n",
       "      <td>72.500000</td>\n",
       "      <td>67.000000</td>\n",
       "    </tr>\n",
       "    <tr>\n",
       "      <th>75%</th>\n",
       "      <td>10075.250000</td>\n",
       "      <td>3.000000</td>\n",
       "      <td>82.250000</td>\n",
       "      <td>86.250000</td>\n",
       "      <td>83.500000</td>\n",
       "    </tr>\n",
       "    <tr>\n",
       "      <th>max</th>\n",
       "      <td>10100.000000</td>\n",
       "      <td>4.000000</td>\n",
       "      <td>99.000000</td>\n",
       "      <td>100.000000</td>\n",
       "      <td>100.000000</td>\n",
       "    </tr>\n",
       "  </tbody>\n",
       "</table>\n",
       "</div>"
      ],
      "text/plain": [
       "                 学号         班级          语文          数学          英语\n",
       "count    100.000000  99.000000  100.000000  100.000000  100.000000\n",
       "mean   10050.500000   2.535354   68.760000   70.400000   68.240000\n",
       "std       29.011492   1.033255   17.580476   17.627458   17.189449\n",
       "min    10001.000000   1.000000   40.000000   40.000000   40.000000\n",
       "25%    10025.750000   2.000000   50.750000   56.000000   54.750000\n",
       "50%    10050.500000   3.000000   70.500000   72.500000   67.000000\n",
       "75%    10075.250000   3.000000   82.250000   86.250000   83.500000\n",
       "max    10100.000000   4.000000   99.000000  100.000000  100.000000"
      ]
     },
     "execution_count": 6,
     "metadata": {},
     "output_type": "execute_result"
    }
   ],
   "source": [
    "#用于生成 DataFrame 或 Series 的描述性统计信息 (主要是看数据分析初步形态)\n",
    "df.describe()\n",
    "df = pd.read_excel('score.xlsx')\n",
    "df.info()\n",
    "df.describe()"
   ]
  },
  {
   "cell_type": "code",
   "execution_count": 8,
   "id": "989be388-ba6b-4724-8831-3e6b41c2f991",
   "metadata": {},
   "outputs": [
    {
     "data": {
      "text/plain": [
       "性别\n",
       "f    78\n",
       "m    22\n",
       "Name: count, dtype: int64"
      ]
     },
     "execution_count": 8,
     "metadata": {},
     "output_type": "execute_result"
    }
   ],
   "source": [
    "#查看每个类型数据的数量\n",
    "df['性别'].value_counts()"
   ]
  },
  {
   "cell_type": "code",
   "execution_count": 9,
   "id": "53e7f7a0-48b0-48dc-8434-63d950ef008e",
   "metadata": {},
   "outputs": [
    {
     "data": {
      "text/plain": [
       "性别\n",
       "f    0.78\n",
       "m    0.22\n",
       "Name: proportion, dtype: float64"
      ]
     },
     "execution_count": 9,
     "metadata": {},
     "output_type": "execute_result"
    }
   ],
   "source": [
    "#查看每个类别数据的占比\n",
    "df['性别'].value_counts(normalize=True)"
   ]
  },
  {
   "cell_type": "code",
   "execution_count": 27,
   "id": "c9d6a3a5-4c7d-4ab9-a251-37acb2b639f2",
   "metadata": {},
   "outputs": [
    {
     "data": {
      "text/plain": [
       "语文\n",
       "(40, 60]     33\n",
       "(60, 80]     37\n",
       "(80, 100]    29\n",
       "Name: count, dtype: int64"
      ]
     },
     "execution_count": 27,
     "metadata": {},
     "output_type": "execute_result"
    }
   ],
   "source": [
    "#对数值类型数据进行分箱处理\n",
    "df_box = pd.cut(df['语文'] , bins = [40,60,80,100])\n",
    "df_box.value_counts().sort_index()"
   ]
  },
  {
   "cell_type": "markdown",
   "id": "b37b5a36-c695-4b55-ba12-18c68d3103dc",
   "metadata": {},
   "source": [
    "### 数据可视化"
   ]
  },
  {
   "cell_type": "code",
   "execution_count": 38,
   "id": "e20d0fc3-3296-4110-b8b3-da16be5e5388",
   "metadata": {},
   "outputs": [
    {
     "name": "stderr",
     "output_type": "stream",
     "text": [
      "findfont: Generic family 'sans-serif' not found because none of the following families were found: SimHei\n",
      "findfont: Generic family 'sans-serif' not found because none of the following families were found: SimHei\n",
      "findfont: Generic family 'sans-serif' not found because none of the following families were found: SimHei\n",
      "findfont: Generic family 'sans-serif' not found because none of the following families were found: SimHei\n",
      "findfont: Generic family 'sans-serif' not found because none of the following families were found: SimHei\n",
      "findfont: Generic family 'sans-serif' not found because none of the following families were found: SimHei\n",
      "findfont: Generic family 'sans-serif' not found because none of the following families were found: SimHei\n",
      "findfont: Generic family 'sans-serif' not found because none of the following families were found: SimHei\n",
      "findfont: Generic family 'sans-serif' not found because none of the following families were found: SimHei\n",
      "findfont: Generic family 'sans-serif' not found because none of the following families were found: SimHei\n",
      "findfont: Generic family 'sans-serif' not found because none of the following families were found: SimHei\n",
      "/opt/conda/lib/python3.11/site-packages/IPython/core/pylabtools.py:152: UserWarning: Glyph 26609 (\\N{CJK UNIFIED IDEOGRAPH-67F1}) missing from font(s) DejaVu Sans.\n",
      "  fig.canvas.print_figure(bytes_io, **kw)\n",
      "/opt/conda/lib/python3.11/site-packages/IPython/core/pylabtools.py:152: UserWarning: Glyph 24418 (\\N{CJK UNIFIED IDEOGRAPH-5F62}) missing from font(s) DejaVu Sans.\n",
      "  fig.canvas.print_figure(bytes_io, **kw)\n",
      "/opt/conda/lib/python3.11/site-packages/IPython/core/pylabtools.py:152: UserWarning: Glyph 22270 (\\N{CJK UNIFIED IDEOGRAPH-56FE}) missing from font(s) DejaVu Sans.\n",
      "  fig.canvas.print_figure(bytes_io, **kw)\n",
      "findfont: Generic family 'sans-serif' not found because none of the following families were found: SimHei\n",
      "findfont: Generic family 'sans-serif' not found because none of the following families were found: SimHei\n",
      "findfont: Generic family 'sans-serif' not found because none of the following families were found: SimHei\n",
      "findfont: Generic family 'sans-serif' not found because none of the following families were found: SimHei\n",
      "findfont: Generic family 'sans-serif' not found because none of the following families were found: SimHei\n",
      "findfont: Generic family 'sans-serif' not found because none of the following families were found: SimHei\n",
      "findfont: Generic family 'sans-serif' not found because none of the following families were found: SimHei\n",
      "findfont: Generic family 'sans-serif' not found because none of the following families were found: SimHei\n",
      "findfont: Generic family 'sans-serif' not found because none of the following families were found: SimHei\n",
      "findfont: Generic family 'sans-serif' not found because none of the following families were found: SimHei\n",
      "findfont: Generic family 'sans-serif' not found because none of the following families were found: SimHei\n",
      "findfont: Generic family 'sans-serif' not found because none of the following families were found: SimHei\n",
      "findfont: Generic family 'sans-serif' not found because none of the following families were found: SimHei\n",
      "findfont: Generic family 'sans-serif' not found because none of the following families were found: SimHei\n",
      "findfont: Generic family 'sans-serif' not found because none of the following families were found: SimHei\n",
      "findfont: Generic family 'sans-serif' not found because none of the following families were found: SimHei\n",
      "findfont: Generic family 'sans-serif' not found because none of the following families were found: SimHei\n",
      "findfont: Generic family 'sans-serif' not found because none of the following families were found: SimHei\n",
      "findfont: Generic family 'sans-serif' not found because none of the following families were found: SimHei\n",
      "findfont: Generic family 'sans-serif' not found because none of the following families were found: SimHei\n",
      "findfont: Generic family 'sans-serif' not found because none of the following families were found: SimHei\n",
      "findfont: Generic family 'sans-serif' not found because none of the following families were found: SimHei\n",
      "findfont: Generic family 'sans-serif' not found because none of the following families were found: SimHei\n",
      "findfont: Generic family 'sans-serif' not found because none of the following families were found: SimHei\n",
      "findfont: Generic family 'sans-serif' not found because none of the following families were found: SimHei\n",
      "findfont: Generic family 'sans-serif' not found because none of the following families were found: SimHei\n",
      "findfont: Generic family 'sans-serif' not found because none of the following families were found: SimHei\n",
      "findfont: Generic family 'sans-serif' not found because none of the following families were found: SimHei\n",
      "findfont: Generic family 'sans-serif' not found because none of the following families were found: SimHei\n"
     ]
    },
    {
     "data": {
      "image/png": "[encoded data removed]",
      "text/plain": [
       "<Figure size 640x480 with 1 Axes>"
      ]
     },
     "metadata": {},
     "output_type": "display_data"
    }
   ],
   "source": [
    "#画柱形图\n",
    "import matplotlib.pyplot as plt\n",
    "import matplotlib as mpl\n",
    "#设置标题可以显示中文\n",
    "plt.rcParams['font.sans-serif'] = ['SimHei']\n",
    "plt.rcParams['axes.unicode_minus']= False\n",
    "#range(3) 设置间距相等 #df_box.value_counts().sort_index() 数据量 #tick_label=df_box.value_counts().sort_index().index X轴标签\n",
    "plt.bar(range(3),df_box.value_counts().sort_index(),tick_label=df_box.value_counts().sort_index().index)\n",
    "plt.title('柱形图')\n",
    "plt.show()"
   ]
  },
  {
   "cell_type": "code",
   "execution_count": 37,
   "id": "7f67a2c4-c338-4de4-b726-f999ca9036c1",
   "metadata": {},
   "outputs": [
    {
     "data": {
      "text/plain": [
       "'/home/jovyan/.cache/matplotlib'"
      ]
     },
     "execution_count": 37,
     "metadata": {},
     "output_type": "execute_result"
    }
   ],
   "source": [
    "mpl.get_cachedir()"
   ]
  },
  {
   "cell_type": "code",
   "execution_count": 18,
   "id": "9c07e907-40d6-4327-bc67-b94e122634e7",
   "metadata": {},
   "outputs": [
    {
     "name": "stdout",
     "output_type": "stream",
     "text": [
      "Collecting matplotlib\n",
      "  Downloading matplotlib-3.9.2-cp311-cp311-manylinux_2_17_x86_64.manylinux2014_x86_64.whl.metadata (11 kB)\n",
      "Collecting contourpy>=1.0.1 (from matplotlib)\n",
      "  Downloading contourpy-1.3.0-cp311-cp311-manylinux_2_17_x86_64.manylinux2014_x86_64.whl.metadata (5.4 kB)\n",
      "Collecting cycler>=0.10 (from matplotlib)\n",
      "  Downloading cycler-0.12.1-py3-none-any.whl.metadata (3.8 kB)\n",
      "Collecting fonttools>=4.22.0 (from matplotlib)\n",
      "  Downloading fonttools-4.54.1-cp311-cp311-manylinux_2_17_x86_64.manylinux2014_x86_64.whl.metadata (163 kB)\n",
      "\u001b[2K     \u001b[90m━━━━━━━━━━━━━━━━━━━━━━━━━━━━━━━━━━━━━\u001b[0m \u001b[32m163.7/163.7 kB\u001b[0m \u001b[31m388.9 kB/s\u001b[0m eta \u001b[36m0:00:00\u001b[0ma \u001b[36m0:00:01\u001b[0m\n",
      "\u001b[?25hCollecting kiwisolver>=1.3.1 (from matplotlib)\n",
      "  Downloading kiwisolver-1.4.7-cp311-cp311-manylinux_2_17_x86_64.manylinux2014_x86_64.whl.metadata (6.3 kB)\n",
      "Requirement already satisfied: numpy>=1.23 in /opt/conda/lib/python3.11/site-packages (from matplotlib) (2.1.2)\n",
      "Requirement already satisfied: packaging>=20.0 in /opt/conda/lib/python3.11/site-packages (from matplotlib) (23.2)\n",
      "Collecting pillow>=8 (from matplotlib)\n",
      "  Downloading pillow-11.0.0-cp311-cp311-manylinux_2_28_x86_64.whl.metadata (9.1 kB)\n",
      "Collecting pyparsing>=2.3.1 (from matplotlib)\n",
      "  Downloading pyparsing-3.2.0-py3-none-any.whl.metadata (5.0 kB)\n",
      "Requirement already satisfied: python-dateutil>=2.7 in /opt/conda/lib/python3.11/site-packages (from matplotlib) (2.8.2)\n",
      "Requirement already satisfied: six>=1.5 in /opt/conda/lib/python3.11/site-packages (from python-dateutil>=2.7->matplotlib) (1.16.0)\n",
      "Downloading matplotlib-3.9.2-cp311-cp311-manylinux_2_17_x86_64.manylinux2014_x86_64.whl (8.3 MB)\n",
      "\u001b[2K   \u001b[90m━━━━━━━━━━━━━━━━━━━━━━━━━━━━━━━━━━━━━━━━\u001b[0m \u001b[32m8.3/8.3 MB\u001b[0m \u001b[31m618.3 kB/s\u001b[0m eta \u001b[36m0:00:00\u001b[0m00:01\u001b[0m00:01\u001b[0m\n",
      "\u001b[?25hDownloading contourpy-1.3.0-cp311-cp311-manylinux_2_17_x86_64.manylinux2014_x86_64.whl (323 kB)\n",
      "\u001b[2K   \u001b[90m━━━━━━━━━━━━━━━━━━━━━━━━━━━━━━━━━━━━━━━\u001b[0m \u001b[32m323.2/323.2 kB\u001b[0m \u001b[31m790.9 kB/s\u001b[0m eta \u001b[36m0:00:00\u001b[0m00:01\u001b[0m00:01\u001b[0m\n",
      "\u001b[?25hDownloading cycler-0.12.1-py3-none-any.whl (8.3 kB)\n",
      "Downloading fonttools-4.54.1-cp311-cp311-manylinux_2_17_x86_64.manylinux2014_x86_64.whl (4.9 MB)\n",
      "\u001b[2K   \u001b[90m━━━━━━━━━━━━━━━━━━━━━━━━━━━━━━━━━━━━━━━━\u001b[0m \u001b[32m4.9/4.9 MB\u001b[0m \u001b[31m645.5 kB/s\u001b[0m eta \u001b[36m0:00:00\u001b[0m00:01\u001b[0m00:01\u001b[0m\n",
      "\u001b[?25hDownloading kiwisolver-1.4.7-cp311-cp311-manylinux_2_17_x86_64.manylinux2014_x86_64.whl (1.4 MB)\n",
      "\u001b[2K   \u001b[90m━━━━━━━━━━━━━━━━━━━━━━━━━━━━━━━━━━━━━━━━\u001b[0m \u001b[32m1.4/1.4 MB\u001b[0m \u001b[31m578.2 kB/s\u001b[0m eta \u001b[36m0:00:00\u001b[0m00:01\u001b[0m00:01\u001b[0m\n",
      "\u001b[?25hDownloading pillow-11.0.0-cp311-cp311-manylinux_2_28_x86_64.whl (4.4 MB)\n",
      "\u001b[2K   \u001b[90m━━━━━━━━━━━━━━━━━━━━━━━━━━━━━━━━━━━━━━━━\u001b[0m \u001b[32m4.4/4.4 MB\u001b[0m \u001b[31m602.5 kB/s\u001b[0m eta \u001b[36m0:00:00\u001b[0m00:01\u001b[0m00:01\u001b[0m\n",
      "\u001b[?25hDownloading pyparsing-3.2.0-py3-none-any.whl (106 kB)\n",
      "\u001b[2K   \u001b[90m━━━━━━━━━━━━━━━━━━━━━━━━━━━━━━━━━━━━━━━\u001b[0m \u001b[32m106.9/106.9 kB\u001b[0m \u001b[31m849.2 kB/s\u001b[0m eta \u001b[36m0:00:00\u001b[0ma \u001b[36m0:00:01\u001b[0m\n",
      "\u001b[?25hInstalling collected packages: pyparsing, pillow, kiwisolver, fonttools, cycler, contourpy, matplotlib\n",
      "Successfully installed contourpy-1.3.0 cycler-0.12.1 fonttools-4.54.1 kiwisolver-1.4.7 matplotlib-3.9.2 pillow-11.0.0 pyparsing-3.2.0\n",
      "Note: you may need to restart the kernel to use updated packages.\n"
     ]
    }
   ],
   "source": [
    "pip install matplotlib"
   ]
  },
  {
   "cell_type": "code",
   "execution_count": 33,
   "id": "a05f3a93-7846-4d34-933c-45100e283ed3",
   "metadata": {},
   "outputs": [
    {
     "name": "stderr",
     "output_type": "stream",
     "text": [
      "/tmp/ipykernel_155/3055492163.py:3: UserWarning: \n",
      "\n",
      "`distplot` is a deprecated function and will be removed in seaborn v0.14.0.\n",
      "\n",
      "Please adapt your code to use either `displot` (a figure-level function with\n",
      "similar flexibility) or `histplot` (an axes-level function for histograms).\n",
      "\n",
      "For a guide to updating your code to use the new functions, please see\n",
      "https://gist.github.com/mwaskom/de44147ed2974457ad6372750bbe5751\n",
      "\n",
      "  sns.distplot(df['语文'])\n",
      "/opt/conda/lib/python3.11/site-packages/IPython/core/pylabtools.py:152: UserWarning: Glyph 35821 (\\N{CJK UNIFIED IDEOGRAPH-8BED}) missing from font(s) DejaVu Sans.\n",
      "  fig.canvas.print_figure(bytes_io, **kw)\n",
      "/opt/conda/lib/python3.11/site-packages/IPython/core/pylabtools.py:152: UserWarning: Glyph 25991 (\\N{CJK UNIFIED IDEOGRAPH-6587}) missing from font(s) DejaVu Sans.\n",
      "  fig.canvas.print_figure(bytes_io, **kw)\n"
     ]
    },
    {
     "data": {
      "image/png": "[encoded data removed]",
      "text/plain": [
       "<Figure size 640x480 with 1 Axes>"
      ]
     },
     "metadata": {},
     "output_type": "display_data"
    }
   ],
   "source": [
    "#密度分布直方图\n",
    "import seaborn as sns\n",
    "sns.distplot(df['语文'])\n",
    "plt.show()"
   ]
  },
  {
   "cell_type": "code",
   "execution_count": 31,
   "id": "e203b612-942b-4b1b-9506-07afdce52734",
   "metadata": {},
   "outputs": [
    {
     "name": "stdout",
     "output_type": "stream",
     "text": [
      "Collecting seaborn\n",
      "  Downloading seaborn-0.13.2-py3-none-any.whl.metadata (5.4 kB)\n",
      "Requirement already satisfied: numpy!=1.24.0,>=1.20 in /opt/conda/lib/python3.11/site-packages (from seaborn) (2.1.2)\n",
      "Requirement already satisfied: pandas>=1.2 in /opt/conda/lib/python3.11/site-packages (from seaborn) (2.2.3)\n",
      "Requirement already satisfied: matplotlib!=3.6.1,>=3.4 in /opt/conda/lib/python3.11/site-packages (from seaborn) (3.9.2)\n",
      "Requirement already satisfied: contourpy>=1.0.1 in /opt/conda/lib/python3.11/site-packages (from matplotlib!=3.6.1,>=3.4->seaborn) (1.3.0)\n",
      "Requirement already satisfied: cycler>=0.10 in /opt/conda/lib/python3.11/site-packages (from matplotlib!=3.6.1,>=3.4->seaborn) (0.12.1)\n",
      "Requirement already satisfied: fonttools>=4.22.0 in /opt/conda/lib/python3.11/site-packages (from matplotlib!=3.6.1,>=3.4->seaborn) (4.54.1)\n",
      "Requirement already satisfied: kiwisolver>=1.3.1 in /opt/conda/lib/python3.11/site-packages (from matplotlib!=3.6.1,>=3.4->seaborn) (1.4.7)\n",
      "Requirement already satisfied: packaging>=20.0 in /opt/conda/lib/python3.11/site-packages (from matplotlib!=3.6.1,>=3.4->seaborn) (23.2)\n",
      "Requirement already satisfied: pillow>=8 in /opt/conda/lib/python3.11/site-packages (from matplotlib!=3.6.1,>=3.4->seaborn) (11.0.0)\n",
      "Requirement already satisfied: pyparsing>=2.3.1 in /opt/conda/lib/python3.11/site-packages (from matplotlib!=3.6.1,>=3.4->seaborn) (3.2.0)\n",
      "Requirement already satisfied: python-dateutil>=2.7 in /opt/conda/lib/python3.11/site-packages (from matplotlib!=3.6.1,>=3.4->seaborn) (2.8.2)\n",
      "Requirement already satisfied: pytz>=2020.1 in /opt/conda/lib/python3.11/site-packages (from pandas>=1.2->seaborn) (2023.3.post1)\n",
      "Requirement already satisfied: tzdata>=2022.7 in /opt/conda/lib/python3.11/site-packages (from pandas>=1.2->seaborn) (2024.2)\n",
      "Requirement already satisfied: six>=1.5 in /opt/conda/lib/python3.11/site-packages (from python-dateutil>=2.7->matplotlib!=3.6.1,>=3.4->seaborn) (1.16.0)\n",
      "Downloading seaborn-0.13.2-py3-none-any.whl (294 kB)\n",
      "\u001b[2K   \u001b[90m━━━━━━━━━━━━━━━━━━━━━━━━━━━━━━━━━━━━━━━\u001b[0m \u001b[32m294.9/294.9 kB\u001b[0m \u001b[31m440.9 kB/s\u001b[0m eta \u001b[36m0:00:00\u001b[0ma \u001b[36m0:00:01\u001b[0m\n",
      "\u001b[?25hInstalling collected packages: seaborn\n",
      "Successfully installed seaborn-0.13.2\n",
      "Note: you may need to restart the kernel to use updated packages.\n"
     ]
    }
   ],
   "source": [
    "pip install seaborn"
   ]
  },
  {
   "cell_type": "code",
   "execution_count": 40,
   "id": "18d0a336-8327-496b-9bc7-fe73bc9e2348",
   "metadata": {},
   "outputs": [
    {
     "name": "stdout",
     "output_type": "stream",
     "text": [
      "字体数 54\n",
      "/opt/conda/lib/python3.11/site-packages/matplotlib/mpl-data/fonts/ttf/DejaVuSans-Bold.ttf\n",
      "/opt/conda/lib/python3.11/site-packages/matplotlib/mpl-data/fonts/ttf/DejaVuSans-BoldOblique.ttf\n",
      "/opt/conda/lib/python3.11/site-packages/matplotlib/mpl-data/fonts/ttf/DejaVuSans-Oblique.ttf\n",
      "/opt/conda/lib/python3.11/site-packages/matplotlib/mpl-data/fonts/ttf/DejaVuSans.ttf\n",
      "/opt/conda/lib/python3.11/site-packages/matplotlib/mpl-data/fonts/ttf/DejaVuSansDisplay.ttf\n",
      "/opt/conda/lib/python3.11/site-packages/matplotlib/mpl-data/fonts/ttf/DejaVuSansMono-Bold.ttf\n",
      "/opt/conda/lib/python3.11/site-packages/matplotlib/mpl-data/fonts/ttf/DejaVuSansMono-BoldOblique.ttf\n",
      "/opt/conda/lib/python3.11/site-packages/matplotlib/mpl-data/fonts/ttf/DejaVuSansMono-Oblique.ttf\n",
      "/opt/conda/lib/python3.11/site-packages/matplotlib/mpl-data/fonts/ttf/DejaVuSansMono.ttf\n",
      "/opt/conda/lib/python3.11/site-packages/matplotlib/mpl-data/fonts/ttf/DejaVuSerif-Bold.ttf\n"
     ]
    }
   ],
   "source": [
    "import matplotlib as mpl\n",
    "mf_name = sorted([f.fname for f in mpl.font_manager.fontManager.ttflist])\n",
    "print(\"字体数\",len(mf_name))\n",
    "for i in mf_name[0:10]:\n",
    "    print(i)"
   ]
  },
  {
   "cell_type": "code",
   "execution_count": 45,
   "id": "46afc331-0e9d-4536-b475-68b105bd9f74",
   "metadata": {},
   "outputs": [
    {
     "name": "stdout",
     "output_type": "stream",
     "text": [
      "[]\n"
     ]
    }
   ],
   "source": [
    "import matplotlib.pyplot as plt\n",
    "from matplotlib import font_manager\n",
    "font_path = 'msyh.ttc'\n",
    "file  = font_manager.findSystemFonts(fontpaths=  'msyh.ttc' )\n",
    "print(file)\n",
    "#font_manager.fontManager.addfont(file)"
   ]
  },
  {
   "cell_type": "code",
   "execution_count": null,
   "id": "183b1776-1e58-48ce-a486-f10985c91694",
   "metadata": {},
   "outputs": [],
   "source": []
  }
 ],
 "metadata": {
  "kernelspec": {
   "display_name": "Python 3 (ipykernel)",
   "language": "python",
   "name": "python3"
  },
  "language_info": {
   "codemirror_mode": {
    "name": "ipython",
    "version": 3
   },
   "file_extension": ".py",
   "mimetype": "text/x-python",
   "name": "python",
   "nbconvert_exporter": "python",
   "pygments_lexer": "ipython3",
   "version": "3.11.6"
  }
 },
 "nbformat": 4,
 "nbformat_minor": 5
}
