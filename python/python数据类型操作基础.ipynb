{
 "cells": [
  {
   "cell_type": "markdown",
   "id": "4bb718c9-b4d7-4abb-896a-ff751c3acccf",
   "metadata": {},
   "source": [
    "### 列表"
   ]
  },
  {
   "cell_type": "code",
   "execution_count": 8,
   "id": "239dba5d-53e4-40f7-b09d-b399d6d82c07",
   "metadata": {},
   "outputs": [
    {
     "name": "stdout",
     "output_type": "stream",
     "text": [
      "[21, 25, 21, 23, 22, 20]\n"
     ]
    }
   ],
   "source": [
    "#定义一个列表，并用变量接收它\n",
    "mylist = [21,25,21,23,22,20]\n",
    "print(mylist)"
   ]
  },
  {
   "cell_type": "code",
   "execution_count": 9,
   "id": "131207cb-4c87-4829-8fec-4f219bda33bf",
   "metadata": {},
   "outputs": [
    {
     "name": "stdout",
     "output_type": "stream",
     "text": [
      "[21, 25, 21, 23, 22, 20, 31]\n"
     ]
    }
   ],
   "source": [
    "#追加一个数字31到列表的尾部\n",
    "mylist.append(31)\n",
    "print(mylist)"
   ]
  },
  {
   "cell_type": "code",
   "execution_count": 10,
   "id": "3f93df7e-837d-4ce4-bf63-088644960601",
   "metadata": {},
   "outputs": [
    {
     "name": "stdout",
     "output_type": "stream",
     "text": [
      "[21, 25, 21, 23, 22, 20, 31, [29, 33, 30]]\n"
     ]
    }
   ],
   "source": [
    "#追加一个新列表[29,33,30],到列表尾部\n",
    "mylist.append([29,33,30])\n",
    "print(mylist)"
   ]
  },
  {
   "cell_type": "code",
   "execution_count": 11,
   "id": "db68e02c-f8b6-4b22-9c6f-f29aa9af8565",
   "metadata": {},
   "outputs": [
    {
     "name": "stdout",
     "output_type": "stream",
     "text": [
      "21\n"
     ]
    }
   ],
   "source": [
    "#取出列表中的第一个元素\n",
    "num1 = mylist[0]\n",
    "print(num1)"
   ]
  },
  {
   "cell_type": "code",
   "execution_count": 12,
   "id": "56faecbb-2995-40b2-87d8-fa72fc6a72ec",
   "metadata": {},
   "outputs": [
    {
     "name": "stdout",
     "output_type": "stream",
     "text": [
      "[29, 33, 30]\n"
     ]
    }
   ],
   "source": [
    "#取出列表的最后一个元素\n",
    "num2 = mylist[-1]\n",
    "print(num2)"
   ]
  },
  {
   "cell_type": "code",
   "execution_count": 15,
   "id": "9c67423b-107f-43d8-bd21-7847e6bed75a",
   "metadata": {},
   "outputs": [
    {
     "name": "stdout",
     "output_type": "stream",
     "text": [
      "0\n"
     ]
    }
   ],
   "source": [
    "#查找元素31，在列表中的下标位置(找出最近的一个答案返回)\n",
    "index = mylist.index(21)\n",
    "print(index)"
   ]
  },
  {
   "cell_type": "code",
   "execution_count": 17,
   "id": "a8d18f96-e27e-4267-811d-34882bcd3208",
   "metadata": {},
   "outputs": [
    {
     "name": "stdout",
     "output_type": "stream",
     "text": [
      "21\n",
      "25\n",
      "21\n",
      "23\n",
      "22\n",
      "20\n"
     ]
    }
   ],
   "source": [
    "#while循环遍历list\n",
    "mylist = [21,25,21,23,22,20]\n",
    "index = 0\n",
    "while index < len(mylist):\n",
    "    print(mylist[index])\n",
    "    index +=1"
   ]
  },
  {
   "cell_type": "code",
   "execution_count": 20,
   "id": "d217f2e4-a14a-4d57-a3d0-79e3857ced18",
   "metadata": {},
   "outputs": [
    {
     "name": "stdout",
     "output_type": "stream",
     "text": [
      "列表的元素有:21\n",
      "列表的元素有:25\n",
      "列表的元素有:21\n",
      "列表的元素有:23\n",
      "列表的元素有:22\n",
      "列表的元素有:20\n"
     ]
    }
   ],
   "source": [
    "#for循环遍历list\n",
    "mylist = [21,25,21,23,22,20]\n",
    "for i in mylist:\n",
    "    print(f'列表的元素有:{i}')"
   ]
  },
  {
   "cell_type": "markdown",
   "id": "3c619c37-5992-478e-94a9-572e14d6bdd5",
   "metadata": {},
   "source": [
    "### 元组（不可变）"
   ]
  },
  {
   "cell_type": "code",
   "execution_count": 21,
   "id": "7731952b-89f3-4e49-a9a1-33d0d93f27f9",
   "metadata": {},
   "outputs": [],
   "source": [
    "#定义空元组\n",
    "t = ()\n",
    "t1 = tuple()"
   ]
  },
  {
   "cell_type": "code",
   "execution_count": 22,
   "id": "adc96914-5ddc-4b2b-9d3d-dc7bb3ba0807",
   "metadata": {},
   "outputs": [],
   "source": [
    "#定义元组\n",
    "t1 = (1,'hello',True)"
   ]
  },
  {
   "cell_type": "code",
   "execution_count": 24,
   "id": "f26fad55-cff5-455b-98a7-37462b49ee67",
   "metadata": {},
   "outputs": [
    {
     "name": "stdout",
     "output_type": "stream",
     "text": [
      "<class 'tuple'>\n"
     ]
    }
   ],
   "source": [
    "#定义单元素元组\n",
    "t2 = (1,)\n",
    "print(type(t2))"
   ]
  },
  {
   "cell_type": "code",
   "execution_count": 26,
   "id": "69c6416b-35d3-405a-adf9-1980f3a7544f",
   "metadata": {},
   "outputs": [
    {
     "name": "stdout",
     "output_type": "stream",
     "text": [
      "<class 'tuple'>\n"
     ]
    }
   ],
   "source": [
    "#元素的嵌套\n",
    "t3 = ((1,2,3),(4,5,6))\n",
    "print(type(t3))"
   ]
  },
  {
   "cell_type": "code",
   "execution_count": 27,
   "id": "f1c80a82-a6b5-45af-bbf4-cec642dcaba7",
   "metadata": {},
   "outputs": [
    {
     "name": "stdout",
     "output_type": "stream",
     "text": [
      "6\n"
     ]
    }
   ],
   "source": [
    "#下标索引取出内容\n",
    "num = t3[1][2]\n",
    "print(num)"
   ]
  },
  {
   "cell_type": "code",
   "execution_count": 30,
   "id": "c686492a-7436-41d6-9306-c669abda7b2a",
   "metadata": {},
   "outputs": [
    {
     "name": "stdout",
     "output_type": "stream",
     "text": [
      "0\n",
      "5\n",
      "6\n"
     ]
    }
   ],
   "source": [
    "#元组的操作 index查找内容\n",
    "t1 = (1,'hello',True,1,1,1)\n",
    "index = t1.index(1)\n",
    "print(index)\n",
    "#count统计方法\n",
    "print(t1.count(1)) ###注意 True也是1\n",
    "#len元素的长度\n",
    "print(len(t1))"
   ]
  },
  {
   "cell_type": "markdown",
   "id": "17e07645-ba21-49ca-86b3-46dac8a44a25",
   "metadata": {},
   "source": [
    "### 字符串"
   ]
  },
  {
   "cell_type": "code",
   "execution_count": 35,
   "id": "6bcb5806-fa3a-4f48-9ff4-2ffa1222043c",
   "metadata": {},
   "outputs": [
    {
     "name": "stdout",
     "output_type": "stream",
     "text": [
      "2\n",
      "itheima|itcast|boxuegu\n",
      "['itheima', 'itcast', 'boxuegu']\n"
     ]
    }
   ],
   "source": [
    "# 统计字符串内有多少个‘it’字符\n",
    "my_str = 'itheima itcast boxuegu'\n",
    "print(my_str.count('it')) # 2\n",
    "# 将字符串内的空格替换成‘|’\n",
    "new_my_str = my_str.replace(' ','|')\n",
    "print(new_my_str) #itheima|itcast|boxuegu\n",
    "# 按照‘|’进行字符串分割\n",
    "s_my_str = new_my_str.split('|')\n",
    "print(s_my_str) # ['itheima', 'itcast', 'boxuegu']"
   ]
  },
  {
   "cell_type": "markdown",
   "id": "4fad4992-77ac-4c94-b3e2-f6065b7c61c7",
   "metadata": {},
   "source": [
    "### 序列\n",
    "序列是指：内容连续、有序，可使用下标索引的一类数据容器\n",
    "列表、元组、字符串，均可以可以视为序列。\n",
    "注意：对序列进行切片不会影响原序列，会产生一个新序列"
   ]
  },
  {
   "cell_type": "code",
   "execution_count": 36,
   "id": "59c61dc4-2f22-42d9-8b76-748d232f20d0",
   "metadata": {},
   "outputs": [
    {
     "name": "stdout",
     "output_type": "stream",
     "text": [
      "[1, 2, 3]\n"
     ]
    }
   ],
   "source": [
    "#对list进行切片，从1开始，4结束，步长1\n",
    "my_list = [0,1,2,3,4,5,6]\n",
    "res = my_list[1:4]\n",
    "print(res) # [1, 2, 3]"
   ]
  },
  {
   "cell_type": "code",
   "execution_count": 37,
   "id": "e905539a-a5d3-4b36-b8e6-4e94f48b7b35",
   "metadata": {},
   "outputs": [
    {
     "name": "stdout",
     "output_type": "stream",
     "text": [
      "(0, 1, 2, 3, 4, 5, 6)\n"
     ]
    }
   ],
   "source": [
    "#对tuple()进行切片，从头开始，到最后结束，步长1\n",
    "my_tuple = (0,1,2,3,4,5,6)\n",
    "res = my_tuple[:]\n",
    "print(res) #(0, 1, 2, 3, 4, 5, 6)"
   ]
  },
  {
   "cell_type": "code",
   "execution_count": 38,
   "id": "341199a6-90dd-4538-af43-e8bf6d879313",
   "metadata": {},
   "outputs": [
    {
     "name": "stdout",
     "output_type": "stream",
     "text": [
      "0246\n"
     ]
    }
   ],
   "source": [
    "#对str进行切片，从头开始，到最后结束，步长2\n",
    "my_str ='01234567'\n",
    "res = my_str[::2]\n",
    "print(res) #0246"
   ]
  },
  {
   "cell_type": "code",
   "execution_count": 39,
   "id": "aa940388-cbec-4d52-ae49-e490a6f51bfd",
   "metadata": {},
   "outputs": [
    {
     "name": "stdout",
     "output_type": "stream",
     "text": [
      "76543210\n"
     ]
    }
   ],
   "source": [
    "#对str进行切片，从头开始，到最后结束，步长-1\n",
    "my_str ='01234567'\n",
    "res = my_str[::-1]\n",
    "print(res) #0246"
   ]
  },
  {
   "cell_type": "code",
   "execution_count": 40,
   "id": "a90e4d5f-f173-49b4-9426-fae04e8753a1",
   "metadata": {},
   "outputs": [
    {
     "name": "stdout",
     "output_type": "stream",
     "text": [
      "[3, 2]\n"
     ]
    }
   ],
   "source": [
    "#对list进行切片，从3开始，1结束，步长-1\n",
    "my_list = [0,1,2,3,4,5,6]\n",
    "res = my_list[3:1:-1]\n",
    "print(res) "
   ]
  },
  {
   "cell_type": "code",
   "execution_count": 41,
   "id": "1637da66-6053-4402-88e0-b7b5b4c36898",
   "metadata": {},
   "outputs": [
    {
     "name": "stdout",
     "output_type": "stream",
     "text": [
      "(6, 4, 2, 0)\n"
     ]
    }
   ],
   "source": [
    "#对元组进行切片，从头开始，到最后结束，步长-2\n",
    "my_tuple = (0,1,2,3,4,5,6)\n",
    "res = my_tuple[::-2]\n",
    "print(res) "
   ]
  },
  {
   "cell_type": "markdown",
   "id": "45941ce4-cbd0-4ed1-afd3-abdf8b62e69f",
   "metadata": {},
   "source": [
    "### 集合\n",
    "1. 不支持重复元素\n",
    "2. 元素是无序的，不支持下标索引"
   ]
  },
  {
   "cell_type": "code",
   "execution_count": 42,
   "id": "e3748f1c-7573-45fc-9740-ebb82e9af140",
   "metadata": {},
   "outputs": [],
   "source": [
    "#定义空集合\n",
    "s =set()"
   ]
  },
  {
   "cell_type": "code",
   "execution_count": 55,
   "id": "be733336-7b58-4c42-b60b-1f947d0a9293",
   "metadata": {},
   "outputs": [],
   "source": [
    "#定义集合\n",
    "my_set = {1,3,5,7}\n",
    "set = {1,2,3,4,6}"
   ]
  },
  {
   "cell_type": "code",
   "execution_count": 44,
   "id": "f74987c4-1ba4-4758-92ba-87ea0a05c771",
   "metadata": {},
   "outputs": [
    {
     "name": "stdout",
     "output_type": "stream",
     "text": [
      "{1, 3, 5, 7, 8}\n"
     ]
    }
   ],
   "source": [
    "# 添加新元素\n",
    "my_set.add(8)\n",
    "print(my_set)"
   ]
  },
  {
   "cell_type": "code",
   "execution_count": 45,
   "id": "cb4a1034-ee99-4652-b050-355189aea515",
   "metadata": {},
   "outputs": [
    {
     "name": "stdout",
     "output_type": "stream",
     "text": [
      "{1, 3, 5, 8}\n"
     ]
    }
   ],
   "source": [
    "# 移除元素\n",
    "my_set.remove(7)\n",
    "print(my_set)"
   ]
  },
  {
   "cell_type": "code",
   "execution_count": 51,
   "id": "d9533e3c-b168-407a-883d-95938408e707",
   "metadata": {},
   "outputs": [
    {
     "name": "stdout",
     "output_type": "stream",
     "text": [
      "1\n",
      "{3, 5, 7}\n"
     ]
    }
   ],
   "source": [
    "# 随机取出元素\n",
    "res = my_set.pop()\n",
    "print(res)\n",
    "print(my_set)"
   ]
  },
  {
   "cell_type": "code",
   "execution_count": 49,
   "id": "b6b6ff68-c986-4c14-a52f-10a0664133ac",
   "metadata": {},
   "outputs": [
    {
     "name": "stdout",
     "output_type": "stream",
     "text": [
      "set()\n"
     ]
    }
   ],
   "source": [
    "# 清空集合\n",
    "my_set.clear()\n",
    "print(my_set)"
   ]
  },
  {
   "cell_type": "code",
   "execution_count": 53,
   "id": "947be99a-5aa4-49b1-8963-0d8950bfdf25",
   "metadata": {},
   "outputs": [
    {
     "name": "stdout",
     "output_type": "stream",
     "text": [
      "{5, 7}\n"
     ]
    }
   ],
   "source": [
    "# 取出两个集合的差集\n",
    "res = my_set.difference(set)\n",
    "print(res)"
   ]
  },
  {
   "cell_type": "code",
   "execution_count": 56,
   "id": "50a649fd-4b9d-491d-9302-9415225ef275",
   "metadata": {},
   "outputs": [
    {
     "name": "stdout",
     "output_type": "stream",
     "text": [
      "None\n",
      "{5, 7}\n"
     ]
    }
   ],
   "source": [
    "# 消除两个集合的差集\n",
    "res = my_set.difference_update(set)\n",
    "print(res)\n",
    "print(my_set)"
   ]
  },
  {
   "cell_type": "code",
   "execution_count": 57,
   "id": "75e1f20d-2a90-44da-b83d-d51b2baae669",
   "metadata": {},
   "outputs": [
    {
     "name": "stdout",
     "output_type": "stream",
     "text": [
      "{1, 2, 3, 4, 5, 6, 7}\n"
     ]
    }
   ],
   "source": [
    "# 合并两个集合\n",
    "set3 = my_set.union(set)\n",
    "print(set3)"
   ]
  },
  {
   "cell_type": "code",
   "execution_count": 60,
   "id": "f72ee38e-00a2-48b4-8146-c96f5a19d3b5",
   "metadata": {},
   "outputs": [
    {
     "name": "stdout",
     "output_type": "stream",
     "text": [
      "7\n"
     ]
    }
   ],
   "source": [
    "# 统计集合的元素个数\n",
    "res  = len(set3)\n",
    "print(res)"
   ]
  },
  {
   "cell_type": "code",
   "execution_count": 61,
   "id": "3317bb59-87ab-42fd-b0e7-5c2fb9bb554f",
   "metadata": {},
   "outputs": [
    {
     "name": "stdout",
     "output_type": "stream",
     "text": [
      "集合的元素有：1\n",
      "集合的元素有：2\n",
      "集合的元素有：3\n",
      "集合的元素有：4\n",
      "集合的元素有：5\n",
      "集合的元素有：6\n",
      "集合的元素有：7\n"
     ]
    }
   ],
   "source": [
    "# 遍历集合的元素\n",
    "#不能使用下标取数，用for循环\n",
    "for i in set3:\n",
    "    print(f'集合的元素有：{i}')"
   ]
  },
  {
   "cell_type": "markdown",
   "id": "91e5e219-76a0-4b2c-bdb8-9adc54816199",
   "metadata": {},
   "source": [
    "### 字典\n",
    "1. 字典中的key不能重复\n",
    "2. 可以容纳不同类型的数据\n"
   ]
  },
  {
   "cell_type": "code",
   "execution_count": 63,
   "id": "8b6dedb2-9055-4210-96f3-f16a75a14873",
   "metadata": {},
   "outputs": [],
   "source": [
    "# 定义一个空字典\n",
    "d = {}\n",
    "d = dict()"
   ]
  },
  {
   "cell_type": "code",
   "execution_count": 70,
   "id": "ece3db3a-0298-411d-b319-38835f5649f8",
   "metadata": {},
   "outputs": [],
   "source": [
    "# 定义字典\n",
    "my_dict = {'张三':99 , '李四':88 ,'王五':77 }"
   ]
  },
  {
   "cell_type": "code",
   "execution_count": 65,
   "id": "0e595085-c481-42fe-a316-a695e8fa5347",
   "metadata": {},
   "outputs": [
    {
     "name": "stdout",
     "output_type": "stream",
     "text": [
      "{'张三': 99, '李四': 88, '王五': 77, '赵六': 66}\n"
     ]
    }
   ],
   "source": [
    "#新增元素\n",
    "my_dict['赵六']=66\n",
    "print(my_dict)"
   ]
  },
  {
   "cell_type": "code",
   "execution_count": 66,
   "id": "89cda84f-de50-4ee5-9225-0cd931c53605",
   "metadata": {},
   "outputs": [
    {
     "name": "stdout",
     "output_type": "stream",
     "text": [
      "{'张三': 33, '李四': 88, '王五': 77, '赵六': 66}\n"
     ]
    }
   ],
   "source": [
    "#更新元素\n",
    "my_dict['张三']=33\n",
    "print(my_dict)"
   ]
  },
  {
   "cell_type": "code",
   "execution_count": 68,
   "id": "1b7dc8f1-dc63-442d-94f2-837730b005bc",
   "metadata": {},
   "outputs": [
    {
     "name": "stdout",
     "output_type": "stream",
     "text": [
      "33\n",
      "{'李四': 88, '王五': 77, '赵六': 66}\n"
     ]
    }
   ],
   "source": [
    "# 删除元素\n",
    "score = my_dict.pop('张三')\n",
    "print(score)\n",
    "print(my_dict)"
   ]
  },
  {
   "cell_type": "code",
   "execution_count": 69,
   "id": "87b3a7c2-3fc6-4afc-8149-776cbd3949fd",
   "metadata": {},
   "outputs": [],
   "source": [
    "# 清空元素\n",
    "my_dict.clear()"
   ]
  },
  {
   "cell_type": "code",
   "execution_count": 71,
   "id": "fc65641b-7abc-4883-8f6a-bee033af4c3f",
   "metadata": {},
   "outputs": [
    {
     "name": "stdout",
     "output_type": "stream",
     "text": [
      "dict_keys(['张三', '李四', '王五'])\n"
     ]
    }
   ],
   "source": [
    "#获取全部的key\n",
    "keys = my_dict.keys()\n",
    "print(keys)"
   ]
  },
  {
   "cell_type": "code",
   "execution_count": 75,
   "id": "2f9d02f6-0aaf-4f43-b912-158368cd0960",
   "metadata": {},
   "outputs": [
    {
     "name": "stdout",
     "output_type": "stream",
     "text": [
      "字典的key是张三字典的value是99\n",
      "字典的key是李四字典的value是88\n",
      "字典的key是王五字典的value是77\n",
      "字典的key是张三字典的value是99\n",
      "字典的key是李四字典的value是88\n",
      "字典的key是王五字典的value是77\n"
     ]
    }
   ],
   "source": [
    "# 遍历字典\n",
    "#方式1 通过获取key来完成遍历\n",
    "for key in keys:\n",
    "    print(f'字典的key是{key}',end='')\n",
    "    print(f'字典的value是{my_dict[key]}')\n",
    "#方式2 直接对字典进行for循环\n",
    "for key in my_dict:\n",
    "    print(f'字典的key是{key}',end='')\n",
    "    print(f'字典的value是{my_dict[key]}')"
   ]
  },
  {
   "cell_type": "code",
   "execution_count": 76,
   "id": "39b98e35-a239-4de5-8244-6c268aee557b",
   "metadata": {},
   "outputs": [
    {
     "name": "stdout",
     "output_type": "stream",
     "text": [
      "3\n"
     ]
    }
   ],
   "source": [
    "# 统计字典的元素数量\n",
    "num = len(my_dict)\n",
    "print(num)"
   ]
  },
  {
   "cell_type": "markdown",
   "id": "88f536f4-f3d8-4691-8f0b-6d99a20dbc64",
   "metadata": {},
   "source": [
    "### 数据容器的通用操作\n",
    "1. len(my)\n",
    "2. max(my) min(my)\n",
    "3. 容器转列表\n",
    "4. 容器转字符串\n",
    "5. 容器转集合\n",
    "6. sorted排序"
   ]
  },
  {
   "cell_type": "markdown",
   "id": "ebb90f36-8de4-42ba-98cd-e7a7d84e9b0b",
   "metadata": {},
   "source": [
    "### 函数"
   ]
  },
  {
   "cell_type": "code",
   "execution_count": 78,
   "id": "d2d52313-c5ea-4616-b37e-c69ab63de040",
   "metadata": {},
   "outputs": [
    {
     "name": "stdout",
     "output_type": "stream",
     "text": [
      "1\n",
      "2\n",
      "3\n"
     ]
    }
   ],
   "source": [
    "# 函数多个返回值\n",
    "def test_return():\n",
    "    return 1,'2',3\n",
    "x,y,z = test_return()\n",
    "print(x)\n",
    "print(y)\n",
    "print(z)"
   ]
  },
  {
   "cell_type": "code",
   "execution_count": 82,
   "id": "e2fe9258-0099-46cb-bffd-ae25167f2c20",
   "metadata": {},
   "outputs": [
    {
     "name": "stdout",
     "output_type": "stream",
     "text": [
      "名字是小明,年龄是18,性别是男\n",
      "名字是小明,年龄是18,性别是男\n",
      "名字是小红,年龄是18,性别是女\n"
     ]
    }
   ],
   "source": [
    "# 关键字参数\n",
    "def user_info(name,age,gender):\n",
    "    print(f'名字是{name},年龄是{age},性别是{gender}')\n",
    "#关键字传参\n",
    "user_info(name='小明',age=18,gender='男')\n",
    "#可以不固定顺序\n",
    "user_info(age=18,gender='男',name='小明')\n",
    "#可以和位置参数混用，但位置参数必须写在前面\n",
    "user_info('小红',age=18,gender='女')\n"
   ]
  },
  {
   "cell_type": "code",
   "execution_count": 4,
   "id": "510b9ac8-cb4b-4fa4-999c-8dd0652aecfe",
   "metadata": {},
   "outputs": [
    {
     "name": "stdout",
     "output_type": "stream",
     "text": [
      "args参数的类型是：<class 'tuple'>,内容是:(1, 2, 3, '小明')\n"
     ]
    }
   ],
   "source": [
    "#不定长参数\n",
    "#位置不定长，*号，形式参数会作为元组存在，接收不定长数量的参数传入\n",
    "def user_info(*args):\n",
    "    print(f'args参数的类型是：{type(args)},内容是:{args}')\n",
    "user_info(1,2,3,'小明')"
   ]
  },
  {
   "cell_type": "code",
   "execution_count": 9,
   "id": "04b28214-836c-4f31-b852-267deea538e7",
   "metadata": {},
   "outputs": [
    {
     "name": "stdout",
     "output_type": "stream",
     "text": [
      "args参数的类型是：<class 'dict'>,内容是:{'num': 1, 'age': 2, 'name': '小明'}\n"
     ]
    }
   ],
   "source": [
    "#关键字不定长，**号，形式参数会作为元字典存在，接收不定长数量的参数传入\n",
    "def user_info(**kwargs):\n",
    "    print(f'args参数的类型是：{type(kwargs)},内容是:{kwargs}')\n",
    "user_info(num = 1, age = 2,name='小明')"
   ]
  },
  {
   "cell_type": "code",
   "execution_count": 10,
   "id": "7235bd0a-aca4-48d1-af19-db418021abcf",
   "metadata": {},
   "outputs": [
    {
     "name": "stdout",
     "output_type": "stream",
     "text": [
      "compute参数的类型是:<class 'function'>\n",
      "计算结果是：3\n"
     ]
    }
   ],
   "source": [
    "#匿名函数\n",
    "#函数作为参数 \n",
    "#定义一个函数，接收另一个函数作作为传入参数\n",
    "def func(compute):\n",
    "    result = compute(1,2)\n",
    "    print(f\"compute参数的类型是:{type(compute)}\")\n",
    "    print(f\"计算结果是：{result}\")\n",
    "    \n",
    "#定义一个函数，准备作为参数传入另一个函数\n",
    "def compute(x,y):\n",
    "    return x+y\n",
    "#调用，并传入函数\n",
    "func(compute)"
   ]
  },
  {
   "cell_type": "code",
   "execution_count": 11,
   "id": "af5a50d6-fe1c-4045-a943-1742ea91eb49",
   "metadata": {},
   "outputs": [
    {
     "name": "stdout",
     "output_type": "stream",
     "text": [
      "compute参数的类型是:<class 'function'>\n",
      "计算结果是：3\n"
     ]
    }
   ],
   "source": [
    "#lambda关键字\n",
    "#定义一个函数，接收另一个函数作作为传入参数\n",
    "def func(compute):\n",
    "    result = compute(1,2)\n",
    "    print(f\"compute参数的类型是:{type(compute)}\")\n",
    "    print(f\"计算结果是：{result}\")\n",
    "    \n",
    "#调用，并传入函数\n",
    "func(lambda x,y:x+y) #lambda 只能写一行代码，只能使用一次"
   ]
  },
  {
   "cell_type": "markdown",
   "id": "903d2620-941b-4911-833c-31d9d519c8fc",
   "metadata": {},
   "source": [
    "### 文件操作\n"
   ]
  },
  {
   "cell_type": "code",
   "execution_count": 30,
   "id": "4c7c5d19-a929-4995-99c7-10eb2b363aeb",
   "metadata": {},
   "outputs": [],
   "source": [
    "#文件读取\n",
    "#打开文件\n",
    "f = open('测试.txt','r',encoding='utf-8')\n",
    "#print(f)\n",
    "#读取文件 -read()\n",
    "#f.read()\n",
    "#读取多行文件,打开文件后所有操作都是接着上一句的操作执行，读完就没有了\n",
    "#f.readlines()\n",
    "#读取单行文件\n",
    "#f.readline()\n",
    "#for循环读取文件行\n",
    "#for readline in f:\n",
    "    #print(readline)\n",
    "#文件关闭\n",
    "f.close()\n"
   ]
  },
  {
   "cell_type": "code",
   "execution_count": 35,
   "id": "73890e49-ad68-4927-818e-a1f7cce8ce0c",
   "metadata": {},
   "outputs": [
    {
     "name": "stdout",
     "output_type": "stream",
     "text": [
      "Python读写文件rb,wb,ab模式\n",
      "\n",
      "    rb模式：以字节（二进制)方式读取文件中的数据\n",
      "\n",
      "        1.想要借助网络把一个文件中的数据发生给另外一个程序的话，需要使用字节(二进制)的数据\n",
      "\n",
      "        2.读取非文本文件，比如：视频，图片，音频等文件需要使用rb模式读取数据\n",
      "\n",
      "\n",
      "\n",
      "    wb模式：以字节（二进制)方式往文件中写入数据\n",
      "\n",
      "        网络中接收的输入想要写入到文件，可以使用wb模式\n",
      "\n",
      "\n",
      "\n",
      "    ab模式：以字节（二进制)方式往文件末尾追加写入数据\n",
      "\n",
      "        表示往文件中追加写入字节数据，之前的历史数据会保留\n",
      "\n",
      "\n",
      "\n",
      "\n",
      "\n"
     ]
    }
   ],
   "source": [
    "#with open 自带关闭文件\n",
    "with open('测试.txt','r',encoding='utf-8') as wf:\n",
    "    for line in wf:\n",
    "        print(line)"
   ]
  },
  {
   "cell_type": "code",
   "execution_count": 44,
   "id": "a619561d-8550-4833-aa3b-41491d1afcc2",
   "metadata": {},
   "outputs": [],
   "source": [
    "#写文件 模式w：文件不存在会自动创建文件，写入内容会覆盖之前的内容\n",
    "f = open('测试.txt','w',encoding='utf-8')\n",
    "#write写入\n",
    "f.write(\"Hello world!\") #内容写入到内存中\n",
    "#刷新\n",
    "f.flush() #将内存中的积攒，写入到硬盘文件中\n",
    "f.close() #内置flush功能"
   ]
  },
  {
   "cell_type": "code",
   "execution_count": 47,
   "id": "4743e2a5-160b-4e91-85e4-ca36cb2c47dd",
   "metadata": {},
   "outputs": [
    {
     "name": "stdout",
     "output_type": "stream",
     "text": [
      "Hello world!Hello world!\n"
     ]
    }
   ],
   "source": [
    "f = open('测试.txt','r',encoding='utf-8')\n",
    "for line in f:\n",
    "        print(line)\n",
    "f.close()"
   ]
  },
  {
   "cell_type": "code",
   "execution_count": 46,
   "id": "6af00720-d4d0-4fce-9f81-fa771032ed2f",
   "metadata": {},
   "outputs": [],
   "source": [
    "#追加文件 模式a,文件不存在会自动创建文件，写入内容会追加到之前的内容\n",
    "f = open('测试.txt','a',encoding='utf-8')\n",
    "#write写入\n",
    "f.write(\"Hello world!\") #内容写入到内存中\n",
    "#刷新\n",
    "f.flush() #将内存中的积攒，写入到硬盘文件中\n",
    "f.close() #内置flush功能"
   ]
  },
  {
   "cell_type": "markdown",
   "id": "b923cbd0-ebbe-42f2-a0bd-ebd13efd3e96",
   "metadata": {},
   "source": [
    "### 异常处理"
   ]
  },
  {
   "cell_type": "code",
   "execution_count": 48,
   "id": "9ca834d4-1681-4661-a5db-bc428bc88126",
   "metadata": {},
   "outputs": [
    {
     "name": "stdout",
     "output_type": "stream",
     "text": [
      "出现异常了\n"
     ]
    }
   ],
   "source": [
    "#捕获异常基本语法\n",
    "try:\n",
    "    f = open(\"abc.txt\",\"r\",encoding=\"UTF-8\")\n",
    "except:\n",
    "    print(\"出现异常了\")"
   ]
  },
  {
   "cell_type": "code",
   "execution_count": 49,
   "id": "80001d10-d34c-405d-b907-7256a99936bf",
   "metadata": {},
   "outputs": [
    {
     "name": "stdout",
     "output_type": "stream",
     "text": [
      "出现变量未定义异常\n"
     ]
    }
   ],
   "source": [
    "#捕获指定异常\n",
    "try:\n",
    "    print(name)\n",
    "except NameError as e: #可以设置捕获多个异常\n",
    "    print(\"出现变量未定义异常\")"
   ]
  },
  {
   "cell_type": "code",
   "execution_count": 50,
   "id": "41b75fb0-a90f-4b26-95f0-0cce591aa15e",
   "metadata": {},
   "outputs": [
    {
     "name": "stdout",
     "output_type": "stream",
     "text": [
      "没有出现异常\n"
     ]
    }
   ],
   "source": [
    "#捕获所异常\n",
    "try:\n",
    "    f = open('测试.txt','a',encoding='utf-8')\n",
    "except Exception as e:\n",
    "    print(\"出现异常了\")\n",
    "else: \n",
    "    print(\"没有出现异常\")\n",
    "finally: #不管还否异常都要执行的代码\n",
    "    f.close()"
   ]
  },
  {
   "cell_type": "code",
   "execution_count": 53,
   "id": "578c1d27-c23f-4a50-a0cf-9ff032fcecee",
   "metadata": {},
   "outputs": [
    {
     "name": "stdout",
     "output_type": "stream",
     "text": [
      "division by zero\n"
     ]
    }
   ],
   "source": [
    "#异常具有传递性\n",
    "def func1():\n",
    "    num = 1/0 #出现异常\n",
    "    \n",
    "def func2():\n",
    "    func1() #调用func1没有捕获异常\n",
    "    \n",
    "def main(): #异常在main中被捕获\n",
    "    try:\n",
    "        func2()\n",
    "    except Exception as e:\n",
    "        print(e)\n",
    "main()"
   ]
  },
  {
   "cell_type": "markdown",
   "id": "1aea7405-1af9-4ccd-ac07-a9ca367f24dd",
   "metadata": {},
   "source": [
    "### josn数据格式转换"
   ]
  },
  {
   "cell_type": "code",
   "execution_count": 56,
   "id": "f9194507-121e-412f-934d-7aae37ce41a9",
   "metadata": {},
   "outputs": [
    {
     "name": "stdout",
     "output_type": "stream",
     "text": [
      "<class 'str'>\n",
      "[{\"name\": \"张三\", \"age\": 11}, {\"name\": \"李四\", \"age\": 15}, {\"name\": \"王五\", \"age\": 16}]\n"
     ]
    }
   ],
   "source": [
    "# 准备列表，列表内每个元素都是字典，将其转为json格式\n",
    "import json\n",
    "data = [{\"name\":\"张三\",\"age\":11},{\"name\":\"李四\",\"age\":15},{\"name\":\"王五\",\"age\":16}]\n",
    "json_str = json.dumps(data,ensure_ascii=False ) #ensure_ascii=False 设置参数，正常显示中文\n",
    "print(type(json_str))\n",
    "print(json_str)"
   ]
  },
  {
   "cell_type": "code",
   "execution_count": 58,
   "id": "a6da4ada-9c02-4104-9936-48a86c4958f1",
   "metadata": {},
   "outputs": [
    {
     "name": "stdout",
     "output_type": "stream",
     "text": [
      "<class 'str'>\n",
      "{\"name\": \"六六\", \"addr\": \"中国\"}\n"
     ]
    }
   ],
   "source": [
    "# 准备字典 ，将字典转换为json\n",
    "d = {\"name\":\"六六\",\"addr\":\"中国\"}\n",
    "json_str = json.dumps(d,ensure_ascii=False)\n",
    "print(type(json_str))\n",
    "print(json_str)"
   ]
  },
  {
   "cell_type": "code",
   "execution_count": 60,
   "id": "285b6054-1eec-4d12-aeb6-96df0020a688",
   "metadata": {},
   "outputs": [
    {
     "name": "stdout",
     "output_type": "stream",
     "text": [
      "<class 'list'>\n",
      "[{'name': '张三', 'age': 11}, {'name': '李四', 'age': 15}, {'name': '王五', 'age': 16}]\n"
     ]
    }
   ],
   "source": [
    "#将json字符串转为python数据类型list\n",
    "s = '[{\"name\": \"张三\", \"age\": 11}, {\"name\": \"李四\", \"age\": 15}, {\"name\": \"王五\", \"age\": 16}]'\n",
    "l = json.loads(s)\n",
    "print(type(l))\n",
    "print(l)"
   ]
  },
  {
   "cell_type": "code",
   "execution_count": 61,
   "id": "f658806b-40ca-4566-a995-e4cb6efdc943",
   "metadata": {},
   "outputs": [
    {
     "name": "stdout",
     "output_type": "stream",
     "text": [
      "<class 'dict'>\n",
      "{'name': '六六', 'addr': '中国'}\n"
     ]
    }
   ],
   "source": [
    "#将json字符串转为python数据类型dict\n",
    "s = '{\"name\": \"六六\", \"addr\": \"中国\"}'\n",
    "d = json.loads(s)\n",
    "print(type(d))\n",
    "print(d)"
   ]
  },
  {
   "cell_type": "markdown",
   "id": "b1a01086-6ceb-4e05-aa1b-cccccdab6500",
   "metadata": {},
   "source": [
    "### pyecharts 画图"
   ]
  },
  {
   "cell_type": "code",
   "execution_count": 63,
   "id": "adc742a9-03b1-4d52-9182-fba0ba630968",
   "metadata": {},
   "outputs": [
    {
     "name": "stdout",
     "output_type": "stream",
     "text": [
      "Collecting pyecharts\n",
      "  Downloading pyecharts-2.0.6-py3-none-any.whl.metadata (1.3 kB)\n",
      "Requirement already satisfied: jinja2 in /opt/conda/lib/python3.11/site-packages (from pyecharts) (3.1.2)\n",
      "Collecting prettytable (from pyecharts)\n",
      "  Downloading prettytable-3.11.0-py3-none-any.whl.metadata (30 kB)\n",
      "Collecting simplejson (from pyecharts)\n",
      "  Downloading simplejson-3.19.3-cp311-cp311-manylinux_2_5_x86_64.manylinux1_x86_64.manylinux_2_17_x86_64.manylinux2014_x86_64.whl.metadata (3.2 kB)\n",
      "Requirement already satisfied: MarkupSafe>=2.0 in /opt/conda/lib/python3.11/site-packages (from jinja2->pyecharts) (2.1.3)\n",
      "Requirement already satisfied: wcwidth in /opt/conda/lib/python3.11/site-packages (from prettytable->pyecharts) (0.2.8)\n",
      "Downloading pyecharts-2.0.6-py3-none-any.whl (149 kB)\n",
      "\u001b[2K   \u001b[90m━━━━━━━━━━━━━━━━━━━━━━━━━━━━━━━━━━━━━━━━\u001b[0m \u001b[32m149.4/149.4 kB\u001b[0m \u001b[31m10.6 kB/s\u001b[0m eta \u001b[36m0:00:00\u001b[0ma \u001b[36m0:00:03\u001b[0m\n",
      "\u001b[?25hDownloading prettytable-3.11.0-py3-none-any.whl (28 kB)\n",
      "Downloading simplejson-3.19.3-cp311-cp311-manylinux_2_5_x86_64.manylinux1_x86_64.manylinux_2_17_x86_64.manylinux2014_x86_64.whl (144 kB)\n",
      "\u001b[2K   \u001b[90m━━━━━━━━━━━━━━━━━━━━━━━━━━━━━━━━━━━━━━━━\u001b[0m \u001b[32m144.7/144.7 kB\u001b[0m \u001b[31m12.8 kB/s\u001b[0m eta \u001b[36m0:00:00\u001b[0ma \u001b[36m0:00:02\u001b[0m\n",
      "\u001b[?25hInstalling collected packages: simplejson, prettytable, pyecharts\n",
      "Successfully installed prettytable-3.11.0 pyecharts-2.0.6 simplejson-3.19.3\n",
      "Note: you may need to restart the kernel to use updated packages.\n"
     ]
    }
   ],
   "source": [
    "pip install pyechart"
   ]
  },
  {
   "cell_type": "code",
   "execution_count": 72,
   "id": "f837b015-7c64-44c9-a74b-1347df62b018",
   "metadata": {},
   "outputs": [
    {
     "data": {
      "text/plain": [
       "'/home/jovyan/10/render.html'"
      ]
     },
     "execution_count": 72,
     "metadata": {},
     "output_type": "execute_result"
    }
   ],
   "source": [
    "# pyecharts基础使用 画折线图\n",
    "from pyecharts.charts import Line\n",
    "\n",
    "# 得到折线图对象\n",
    "line = Line()\n",
    "# 添加X轴数据\n",
    "line.add_xaxis([\"类目一\",\"类目二\",\"类目三\"])\n",
    "# 添加Y轴数据\n",
    "line.add_yaxis(\"Total\",[30,20,10])\n",
    "# 生成图表\n",
    "line.render()"
   ]
  },
  {
   "cell_type": "markdown",
   "id": "f222913b-507c-40a8-8bb7-7080e2c8b058",
   "metadata": {},
   "source": [
    "### 类 对象"
   ]
  },
  {
   "cell_type": "code",
   "execution_count": 4,
   "id": "f3b70dc7-195a-4d52-9be2-fe028922904f",
   "metadata": {},
   "outputs": [
    {
     "name": "stdout",
     "output_type": "stream",
     "text": [
      "5g开启\n",
      "正在通话中\n"
     ]
    }
   ],
   "source": [
    "# 封装性练习\n",
    "#设计一个类来描述手机\n",
    "class Phone:\n",
    "    #提供一个私有成员变量\n",
    "    __is_5g_enable = True\n",
    "    #提供一个私有成员方法\n",
    "    def __check_5g(self):\n",
    "        #调用私有变量\n",
    "        if self.__is_5g_enable:\n",
    "            print(\"5g开启\")\n",
    "        else:\n",
    "            print(\"5g关闭，使用4g\")\n",
    "    # 公开成员方法\n",
    "    def call_by_5g(self):\n",
    "        #调用私有方法\n",
    "        self.__check_5g()\n",
    "        print(\"正在通话中\")\n",
    "p = Phone()\n",
    "p.call_by_5g() "
   ]
  },
  {
   "cell_type": "code",
   "execution_count": 5,
   "id": "f4c7a60c-2e2d-4c3c-b5e4-6f74c1da238c",
   "metadata": {},
   "outputs": [
    {
     "name": "stdout",
     "output_type": "stream",
     "text": [
      "wangwangwang\n",
      "miaomiaomiao\n"
     ]
    }
   ],
   "source": [
    "# 继承和多态\n",
    "class Animal:  #抽象类，规约继承盖类的子类都要重写方法\n",
    "    def speak(self):\n",
    "        pass\n",
    "        \n",
    "class Dog(Animal): #继承Animal类\n",
    "    def speak(self): #重写方法\n",
    "        print(\"wangwangwang\")\n",
    "        \n",
    "class Cat(Animal): #继承Animal类\n",
    "    def speak(self): #重写方法\n",
    "        print(\"miaomiaomiao\")\n",
    "dog = Dog() #拿到Dog的对象dog\n",
    "dog.speak() #dog对象调用speak方法\n",
    "\n",
    "cat = Cat()\n",
    "cat.speak()#cat对象调用speak方法  \n",
    "#同样的speak行为，不同的对象实现不同的结果"
   ]
  },
  {
   "cell_type": "markdown",
   "id": "e400b8ca-cee0-4116-98f2-e93b808e1d4d",
   "metadata": {},
   "source": [
    "### pyspark"
   ]
  },
  {
   "cell_type": "code",
   "execution_count": 1,
   "id": "f65925da-f550-4815-823a-17c60c816809",
   "metadata": {},
   "outputs": [
    {
     "name": "stdout",
     "output_type": "stream",
     "text": [
      "\u001b[33mWARNING: Retrying (Retry(total=4, connect=None, read=None, redirect=None, status=None)) after connection broken by 'ReadTimeoutError(\"HTTPSConnectionPool(host='pypi.org', port=443): Read timed out. (read timeout=15)\")': /simple/pyspark/\u001b[0m\u001b[33m\n",
      "\u001b[0mCollecting pyspark\n",
      "  Downloading pyspark-3.5.3.tar.gz (317.3 MB)\n",
      "\u001b[2K     \u001b[90m━━━━━━━━━━━━━━━━━━━━━━━━━━━━━━━━━━━━━━━\u001b[0m \u001b[32m317.3/317.3 MB\u001b[0m \u001b[31m2.4 MB/s\u001b[0m eta \u001b[36m0:00:00\u001b[0m00:01\u001b[0m00:04\u001b[0m\n",
      "\u001b[?25h  Preparing metadata (setup.py) ... \u001b[?25ldone\n",
      "\u001b[?25hCollecting py4j==0.10.9.7 (from pyspark)\n",
      "  Downloading py4j-0.10.9.7-py2.py3-none-any.whl.metadata (1.5 kB)\n",
      "Downloading py4j-0.10.9.7-py2.py3-none-any.whl (200 kB)\n",
      "\u001b[2K   \u001b[90m━━━━━━━━━━━━━━━━━━━━━━━━━━━━━━━━━━━━━━━━\u001b[0m \u001b[32m200.5/200.5 kB\u001b[0m \u001b[31m3.5 MB/s\u001b[0m eta \u001b[36m0:00:00\u001b[0ma \u001b[36m0:00:01\u001b[0m\n",
      "\u001b[?25hBuilding wheels for collected packages: pyspark\n",
      "  Building wheel for pyspark (setup.py) ... \u001b[?25ldone\n",
      "\u001b[?25h  Created wheel for pyspark: filename=pyspark-3.5.3-py2.py3-none-any.whl size=317840630 sha256=90cd7045295a00675889c8feb52dfe3bf6797364980383726b0a4831778104d2\n",
      "  Stored in directory: /home/jovyan/.cache/pip/wheels/97/f5/c0/947e2c0942b361ffe58651f36bd7f13772675b3863fd63d1b1\n",
      "Successfully built pyspark\n",
      "Installing collected packages: py4j, pyspark\n",
      "Successfully installed py4j-0.10.9.7 pyspark-3.5.3\n",
      "Note: you may need to restart the kernel to use updated packages.\n"
     ]
    }
   ],
   "source": [
    "pip install pyspark"
   ]
  },
  {
   "cell_type": "code",
   "execution_count": 1,
   "id": "cc547cf1-e6cf-4d60-bdea-4862c362d275",
   "metadata": {},
   "outputs": [
    {
     "name": "stderr",
     "output_type": "stream",
     "text": [
      "JAVA_HOME is not set\n"
     ]
    },
    {
     "ename": "PySparkRuntimeError",
     "evalue": "[JAVA_GATEWAY_EXITED] Java gateway process exited before sending its port number.",
     "output_type": "error",
     "traceback": [
      "\u001b[0;31m---------------------------------------------------------------------------\u001b[0m",
      "\u001b[0;31mPySparkRuntimeError\u001b[0m                       Traceback (most recent call last)",
      "Cell \u001b[0;32mIn[1], line 7\u001b[0m\n\u001b[1;32m      3\u001b[0m \u001b[38;5;28;01mfrom\u001b[39;00m \u001b[38;5;21;01mpyspark\u001b[39;00m \u001b[38;5;28;01mimport\u001b[39;00m SparkConf,SparkContext\n\u001b[1;32m      5\u001b[0m conf \u001b[38;5;241m=\u001b[39m SparkConf()\u001b[38;5;241m.\u001b[39msetMaster(\u001b[38;5;124m\"\u001b[39m\u001b[38;5;124mlocla[*]\u001b[39m\u001b[38;5;124m\"\u001b[39m)\u001b[38;5;241m.\u001b[39msetAppName(\u001b[38;5;124m\"\u001b[39m\u001b[38;5;124mtest_spark_app\u001b[39m\u001b[38;5;124m\"\u001b[39m)\n\u001b[0;32m----> 7\u001b[0m sc \u001b[38;5;241m=\u001b[39m \u001b[43mSparkContext\u001b[49m\u001b[43m(\u001b[49m\u001b[43mconf\u001b[49m\u001b[38;5;241;43m=\u001b[39;49m\u001b[43mconf\u001b[49m\u001b[43m)\u001b[49m\n\u001b[1;32m      9\u001b[0m \u001b[38;5;28mprint\u001b[39m(sc\u001b[38;5;241m.\u001b[39mversion)\n\u001b[1;32m     11\u001b[0m sc\u001b[38;5;241m.\u001b[39mstop()\n",
      "File \u001b[0;32m/opt/conda/lib/python3.11/site-packages/pyspark/context.py:201\u001b[0m, in \u001b[0;36mSparkContext.__init__\u001b[0;34m(self, master, appName, sparkHome, pyFiles, environment, batchSize, serializer, conf, gateway, jsc, profiler_cls, udf_profiler_cls, memory_profiler_cls)\u001b[0m\n\u001b[1;32m    195\u001b[0m \u001b[38;5;28;01mif\u001b[39;00m gateway \u001b[38;5;129;01mis\u001b[39;00m \u001b[38;5;129;01mnot\u001b[39;00m \u001b[38;5;28;01mNone\u001b[39;00m \u001b[38;5;129;01mand\u001b[39;00m gateway\u001b[38;5;241m.\u001b[39mgateway_parameters\u001b[38;5;241m.\u001b[39mauth_token \u001b[38;5;129;01mis\u001b[39;00m \u001b[38;5;28;01mNone\u001b[39;00m:\n\u001b[1;32m    196\u001b[0m     \u001b[38;5;28;01mraise\u001b[39;00m \u001b[38;5;167;01mValueError\u001b[39;00m(\n\u001b[1;32m    197\u001b[0m         \u001b[38;5;124m\"\u001b[39m\u001b[38;5;124mYou are trying to pass an insecure Py4j gateway to Spark. This\u001b[39m\u001b[38;5;124m\"\u001b[39m\n\u001b[1;32m    198\u001b[0m         \u001b[38;5;124m\"\u001b[39m\u001b[38;5;124m is not allowed as it is a security risk.\u001b[39m\u001b[38;5;124m\"\u001b[39m\n\u001b[1;32m    199\u001b[0m     )\n\u001b[0;32m--> 201\u001b[0m \u001b[43mSparkContext\u001b[49m\u001b[38;5;241;43m.\u001b[39;49m\u001b[43m_ensure_initialized\u001b[49m\u001b[43m(\u001b[49m\u001b[38;5;28;43mself\u001b[39;49m\u001b[43m,\u001b[49m\u001b[43m \u001b[49m\u001b[43mgateway\u001b[49m\u001b[38;5;241;43m=\u001b[39;49m\u001b[43mgateway\u001b[49m\u001b[43m,\u001b[49m\u001b[43m \u001b[49m\u001b[43mconf\u001b[49m\u001b[38;5;241;43m=\u001b[39;49m\u001b[43mconf\u001b[49m\u001b[43m)\u001b[49m\n\u001b[1;32m    202\u001b[0m \u001b[38;5;28;01mtry\u001b[39;00m:\n\u001b[1;32m    203\u001b[0m     \u001b[38;5;28mself\u001b[39m\u001b[38;5;241m.\u001b[39m_do_init(\n\u001b[1;32m    204\u001b[0m         master,\n\u001b[1;32m    205\u001b[0m         appName,\n\u001b[0;32m   (...)\u001b[0m\n\u001b[1;32m    215\u001b[0m         memory_profiler_cls,\n\u001b[1;32m    216\u001b[0m     )\n",
      "File \u001b[0;32m/opt/conda/lib/python3.11/site-packages/pyspark/context.py:436\u001b[0m, in \u001b[0;36mSparkContext._ensure_initialized\u001b[0;34m(cls, instance, gateway, conf)\u001b[0m\n\u001b[1;32m    434\u001b[0m \u001b[38;5;28;01mwith\u001b[39;00m SparkContext\u001b[38;5;241m.\u001b[39m_lock:\n\u001b[1;32m    435\u001b[0m     \u001b[38;5;28;01mif\u001b[39;00m \u001b[38;5;129;01mnot\u001b[39;00m SparkContext\u001b[38;5;241m.\u001b[39m_gateway:\n\u001b[0;32m--> 436\u001b[0m         SparkContext\u001b[38;5;241m.\u001b[39m_gateway \u001b[38;5;241m=\u001b[39m gateway \u001b[38;5;129;01mor\u001b[39;00m \u001b[43mlaunch_gateway\u001b[49m\u001b[43m(\u001b[49m\u001b[43mconf\u001b[49m\u001b[43m)\u001b[49m\n\u001b[1;32m    437\u001b[0m         SparkContext\u001b[38;5;241m.\u001b[39m_jvm \u001b[38;5;241m=\u001b[39m SparkContext\u001b[38;5;241m.\u001b[39m_gateway\u001b[38;5;241m.\u001b[39mjvm\n\u001b[1;32m    439\u001b[0m     \u001b[38;5;28;01mif\u001b[39;00m instance:\n",
      "File \u001b[0;32m/opt/conda/lib/python3.11/site-packages/pyspark/java_gateway.py:107\u001b[0m, in \u001b[0;36mlaunch_gateway\u001b[0;34m(conf, popen_kwargs)\u001b[0m\n\u001b[1;32m    104\u001b[0m     time\u001b[38;5;241m.\u001b[39msleep(\u001b[38;5;241m0.1\u001b[39m)\n\u001b[1;32m    106\u001b[0m \u001b[38;5;28;01mif\u001b[39;00m \u001b[38;5;129;01mnot\u001b[39;00m os\u001b[38;5;241m.\u001b[39mpath\u001b[38;5;241m.\u001b[39misfile(conn_info_file):\n\u001b[0;32m--> 107\u001b[0m     \u001b[38;5;28;01mraise\u001b[39;00m PySparkRuntimeError(\n\u001b[1;32m    108\u001b[0m         error_class\u001b[38;5;241m=\u001b[39m\u001b[38;5;124m\"\u001b[39m\u001b[38;5;124mJAVA_GATEWAY_EXITED\u001b[39m\u001b[38;5;124m\"\u001b[39m,\n\u001b[1;32m    109\u001b[0m         message_parameters\u001b[38;5;241m=\u001b[39m{},\n\u001b[1;32m    110\u001b[0m     )\n\u001b[1;32m    112\u001b[0m \u001b[38;5;28;01mwith\u001b[39;00m \u001b[38;5;28mopen\u001b[39m(conn_info_file, \u001b[38;5;124m\"\u001b[39m\u001b[38;5;124mrb\u001b[39m\u001b[38;5;124m\"\u001b[39m) \u001b[38;5;28;01mas\u001b[39;00m info:\n\u001b[1;32m    113\u001b[0m     gateway_port \u001b[38;5;241m=\u001b[39m read_int(info)\n",
      "\u001b[0;31mPySparkRuntimeError\u001b[0m: [JAVA_GATEWAY_EXITED] Java gateway process exited before sending its port number."
     ]
    }
   ],
   "source": [
    "import findspark\n",
    "findspark.init()\n",
    "from pyspark import SparkConf,SparkContext\n",
    "\n",
    "conf = SparkConf().setMaster(\"locla[*]\").setAppName(\"test_spark_app\")\n",
    "\n",
    "sc = SparkContext(conf=conf)\n",
    "\n",
    "print(sc.version)\n",
    "\n",
    "sc.stop()"
   ]
  },
  {
   "cell_type": "code",
   "execution_count": 5,
   "id": "0b2f83e2-797b-4585-8c17-fd3a3becc5d0",
   "metadata": {},
   "outputs": [
    {
     "name": "stdout",
     "output_type": "stream",
     "text": [
      "Collecting findspark\n",
      "  Downloading findspark-2.0.1-py2.py3-none-any.whl.metadata (352 bytes)\n",
      "Downloading findspark-2.0.1-py2.py3-none-any.whl (4.4 kB)\n",
      "Installing collected packages: findspark\n",
      "Successfully installed findspark-2.0.1\n",
      "Note: you may need to restart the kernel to use updated packages.\n"
     ]
    }
   ],
   "source": [
    "pip install findspark"
   ]
  },
  {
   "cell_type": "code",
   "execution_count": null,
   "id": "590724c0-d4a5-46ca-98e9-22272f33b27b",
   "metadata": {},
   "outputs": [],
   "source": []
  }
 ],
 "metadata": {
  "kernelspec": {
   "display_name": "Python 3 (ipykernel)",
   "language": "python",
   "name": "python3"
  },
  "language_info": {
   "codemirror_mode": {
    "name": "ipython",
    "version": 3
   },
   "file_extension": ".py",
   "mimetype": "text/x-python",
   "name": "python",
   "nbconvert_exporter": "python",
   "pygments_lexer": "ipython3",
   "version": "3.11.6"
  }
 },
 "nbformat": 4,
 "nbformat_minor": 5
}
